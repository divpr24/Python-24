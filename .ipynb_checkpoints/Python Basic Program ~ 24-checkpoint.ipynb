{
 "cells": [
  {
   "cell_type": "code",
   "execution_count": 1,
   "id": "e79e69ac",
   "metadata": {},
   "outputs": [
    {
     "name": "stdout",
     "output_type": "stream",
     "text": [
      "Hello! world\n"
     ]
    }
   ],
   "source": [
    "#1.Python program to print \"Hello World\".\n",
    "print('Hello! world')"
   ]
  },
  {
   "cell_type": "code",
   "execution_count": 4,
   "id": "a0dda590",
   "metadata": {},
   "outputs": [
    {
     "name": "stdout",
     "output_type": "stream",
     "text": [
      "Enter the first number for addition: 5\n",
      "Enter the second number for addition: 6\n",
      "sum 5.0 + 6.0 = 11.0\n"
     ]
    }
   ],
   "source": [
    "#2. Python program to do arithmetical operations addition and division.\n",
    "#Addition\n",
    "num_1 = float(input(\"Enter the first number for addition: \"))\n",
    "num_2 = float(input(\"Enter the second number for addition: \"))\n",
    "sum_result = num_1 + num_2\n",
    "print(f\"sum {num_1} + {num_2} = {sum_result}\")"
   ]
  },
  {
   "cell_type": "code",
   "execution_count": 7,
   "id": "8aa9e7db",
   "metadata": {},
   "outputs": [
    {
     "name": "stdout",
     "output_type": "stream",
     "text": [
      "Enter the first number for division: 5\n",
      "Enter the second number for division: 6\n",
      "division 5.0 / 6.0 = 0.8333333333333334\n"
     ]
    }
   ],
   "source": [
    "#Division\n",
    "def div_fun(a,b):\n",
    "    try:\n",
    "        division_result = a / b\n",
    "        print(f\"Division {a} / {b} = {division_result}\")\n",
    "    except ZeroDivisionError:\n",
    "        print(\"Can't divide by zero.\")\n",
    "    except TypeError:\n",
    "        print(\"Can't divide it by string.\")\n",
    "\n",
    "num_1 = float(input(\"Enter the first number for division: \"))\n",
    "num_2 = float(input(\"Enter the second number for division: \"))\n",
    "div_fun(num_1,num_2)"
   ]
  },
  {
   "cell_type": "code",
   "execution_count": 8,
   "id": "b44d58a0",
   "metadata": {},
   "outputs": [
    {
     "name": "stdout",
     "output_type": "stream",
     "text": [
      "Enter the base of the triangle: 10\n",
      "Enter the height of the triangle: 10\n",
      "The area of the triangle is 50.0.\n"
     ]
    }
   ],
   "source": [
    "#4.Python program to find the area of a triangle.\n",
    "base = float(input(\"Enter the base of the triangle: \"))\n",
    "height = float(input(\"Enter the height of the triangle: \"))\n",
    "area = 0.5 * base * height\n",
    "print(\"The area of the triangle is {}.\".format(area))"
   ]
  },
  {
   "cell_type": "code",
   "execution_count": 10,
   "id": "92a7eace",
   "metadata": {},
   "outputs": [
    {
     "name": "stdout",
     "output_type": "stream",
     "text": [
      "Enter the first number: 10\n",
      "Enter the second number: 50\n",
      "The original values are a = 10.0 and b = 50.0.\n",
      "\n",
      "\n",
      "The swaped values are a = 50.0 and b = 10.0.\n"
     ]
    }
   ],
   "source": [
    "#5.Python program to swap two variables.\n",
    "num_1 = float(input(\"Enter the first number: \"))\n",
    "num_2 = float(input(\"Enter the second number: \"))\n",
    "#Display the original values.\n",
    "print(f\"The original values are a = {num_1} and b = {num_2}.\")\n",
    "print(\"\\n\")\n",
    "num_2, num_1 = num_1, num_2\n",
    "#Display the swaped values.\n",
    "print(f\"The swaped values are a = {num_1} and b = {num_2}.\")"
   ]
  },
  {
   "cell_type": "code",
   "execution_count": 15,
   "id": "1bc0af10",
   "metadata": {},
   "outputs": [
    {
     "name": "stdout",
     "output_type": "stream",
     "text": [
      "Enter the value of the first number: 23\n",
      "Enter the value of the second number: 48\n",
      "\n",
      "\n",
      "Original Values: a = 23.0 and b = 48.0.\n",
      "\n",
      "\n",
      "Swaped values: a = 48.0 and b = 23.0.\n"
     ]
    }
   ],
   "source": [
    "#Swaping using a third variable.\n",
    "num_1 = float(input(\"Enter the value of the first number: \"))\n",
    "num_2 = float(input(\"Enter the value of the second number: \"))\n",
    "print(\"\\n\")\n",
    "#Display the original values.\n",
    "print(f\"Original Values: a = {num_1} and b = {num_2}.\")\n",
    "print(\"\\n\")\n",
    "temp = num_1\n",
    "num_1 = num_2\n",
    "num_2 = temp\n",
    "#Display the swaped values.\n",
    "print(f\"Swaped values: a = {num_1} and b = {num_2}.\")"
   ]
  },
  {
   "cell_type": "code",
   "execution_count": 13,
   "id": "b1308f4a",
   "metadata": {},
   "outputs": [
    {
     "name": "stdout",
     "output_type": "stream",
     "text": [
      "Radom numbers: 55\n"
     ]
    }
   ],
   "source": [
    "#6. Python program to generate a random number.\n",
    "import random\n",
    "print(f\"Radom numbers: {random.randint(1,110)}\")"
   ]
  },
  {
   "cell_type": "code",
   "execution_count": 17,
   "id": "7d8cfeb3",
   "metadata": {},
   "outputs": [
    {
     "name": "stdout",
     "output_type": "stream",
     "text": [
      "Enter the distance in kilometer: 1\n",
      "1.0 kilometer is equal to 0.621 miles.\n"
     ]
    }
   ],
   "source": [
    "#7. Python program to convert kilometers to miles.\n",
    "kilometer = float(input(\"Enter the distance in kilometer: \"))\n",
    "\n",
    "#Conversion factor 1km = 0.621 miles\n",
    "miles = 0.621 * kilometer\n",
    "\n",
    "#Display the output\n",
    "print(f\"{kilometer} kilometer is equal to {miles} miles.\")"
   ]
  },
  {
   "cell_type": "code",
   "execution_count": 19,
   "id": "7cb1cc99",
   "metadata": {},
   "outputs": [
    {
     "name": "stdout",
     "output_type": "stream",
     "text": [
      "Enter temperature in degree celcius: 37\n",
      "37.0 degree celcius is equals to 98.6 degree farenheit.\n"
     ]
    }
   ],
   "source": [
    "#8. Python program to convert Celsius to Fahrenheit.\n",
    "celcius = float(input(\"Enter temperature in degree celcius: \"))\n",
    "#Conversion factor: F = 9/5C+32\n",
    "farenheit = (9/5)*celcius + 32\n",
    "farenheit = round(farenheit,3)\n",
    "print(f\"{celcius} degree celcius is equals to {farenheit} degree farenheit.\")"
   ]
  },
  {
   "cell_type": "code",
   "execution_count": 25,
   "id": "2abe0e25",
   "metadata": {},
   "outputs": [
    {
     "name": "stdout",
     "output_type": "stream",
     "text": [
      "Enter month: 2\n",
      "Enter year: 2024\n",
      "\n",
      "\n",
      "   February 2024\n",
      "Mo Tu We Th Fr Sa Su\n",
      "          1  2  3  4\n",
      " 5  6  7  8  9 10 11\n",
      "12 13 14 15 16 17 18\n",
      "19 20 21 22 23 24 25\n",
      "26 27 28 29\n",
      "\n"
     ]
    }
   ],
   "source": [
    "#9. Python program to display calendar.\n",
    "import calendar\n",
    "month = int(input(\"Enter month: \"))\n",
    "year = int(input(\"Enter year: \"))\n",
    "print(\"\\n\")\n",
    "print(calendar.month(year, month))"
   ]
  },
  {
   "cell_type": "code",
   "execution_count": 31,
   "id": "0a952fe1",
   "metadata": {},
   "outputs": [
    {
     "name": "stdout",
     "output_type": "stream",
     "text": [
      "Enter cofficient a: 1\n",
      "Enter cofficient b: 4\n",
      "Enter cofficient c: 8\n",
      "\n",
      "\n",
      "The roots of the equation are as\n",
      "The first root of the equation is -2.0 + i2.0.\n",
      "The second root of the equation is -2.0 - i2.0.\n"
     ]
    }
   ],
   "source": [
    "#10.Python program to solve quadratic equation.\n",
    "import math\n",
    "\n",
    "#Taking user inputs:\n",
    "a = float(input(\"Enter cofficient a: \"))\n",
    "b = float(input(\"Enter cofficient b: \"))\n",
    "c = float(input(\"Enter cofficient c: \"))\n",
    "print(\"\\n\")\n",
    "print(\"The roots of the equation are as\")\n",
    "\n",
    "#Calculate discriminant\n",
    "discriminant = b**2 - 4*a*c\n",
    "\n",
    "#Calculate roots of the equation:\n",
    "if discriminant > 0:\n",
    "    root_1 = (-b + math.sqrt(discriminant))/(2*a)\n",
    "    root_2 = (-b - math.sqrt(discriminant))/(2*a)\n",
    "    print(f\"The root of the equation is {root_1} and {root_2}.\")\n",
    "elif discriminant == 0:\n",
    "    root = -b/(2*a)\n",
    "    print(f\"The root of the equation is {root}.\")\n",
    "else:\n",
    "    discriminant = abs(discriminant)\n",
    "    real_root = -b/(2*a)\n",
    "    imaginary_root = math.sqrt(discriminant)/(2*a)\n",
    "    print(f\"The first root of the equation is {round(real_root,3)} + i{round(imaginary_root,3)}.\")\n",
    "    print(f\"The second root of the equation is {round(real_root,3)} - i{round(imaginary_root,3)}.\")"
   ]
  },
  {
   "cell_type": "code",
   "execution_count": 33,
   "id": "415afcdb",
   "metadata": {},
   "outputs": [
    {
     "name": "stdout",
     "output_type": "stream",
     "text": [
      "Enter a number5\n",
      "\n",
      "\n",
      "5.0 is a positive number.\n"
     ]
    }
   ],
   "source": [
    "#11. Python Program to Check if a Number is Positive, Negative or Zero.\n",
    "number = float(input(\"Enter a number\"))\n",
    "print(\"\\n\")\n",
    "if number > 0:\n",
    "    print(f\"{number} is a positive number.\")\n",
    "elif number == 0:\n",
    "    print(f\"{number} is a zero.\")\n",
    "else:\n",
    "    print(f\"{number} is a negative number.\")"
   ]
  },
  {
   "cell_type": "code",
   "execution_count": 35,
   "id": "58884ae8",
   "metadata": {},
   "outputs": [
    {
     "name": "stdout",
     "output_type": "stream",
     "text": [
      "Enter a number6\n",
      "\n",
      "\n",
      "6 is an even number.\n"
     ]
    }
   ],
   "source": [
    "#12. Python Program to Check if a Number is Odd or Even.\n",
    "number = int(input(\"Enter a number\"))\n",
    "print(\"\\n\")\n",
    "if number % 2 == 0:\n",
    "    print(f\"{number} is an even number.\")\n",
    "else:\n",
    "    print(f\"{number} is an odd number.\")"
   ]
  },
  {
   "cell_type": "code",
   "execution_count": 40,
   "id": "c3c0dc33",
   "metadata": {},
   "outputs": [
    {
     "name": "stdout",
     "output_type": "stream",
     "text": [
      "Enter a year2024\n",
      "\n",
      "\n",
      "2024 is a leap year.\n"
     ]
    }
   ],
   "source": [
    "#13. Python Program to Check Leap Year.\n",
    "year = int(input(\"Enter a year\"))\n",
    "print(\"\\n\")\n",
    "#Century year and disvisible by 400, then leap year.\n",
    "if ((year % 100 == 0) and (year % 400 == 0)):\n",
    "    print(\"{} is a leap year.\".format(year))\n",
    "#Not a century year and disvisible by 4, then leap year.\n",
    "elif((year % 100 != 0) and (year % 4 == 0)):\n",
    "    print(\"{} is a leap year.\".format(year))\n",
    "#Not a cnetury year neither divisible by 4, then not a leap year.\n",
    "else:\n",
    "    print(\"{} is a not a leap year.\".format(year))"
   ]
  },
  {
   "cell_type": "code",
   "execution_count": 20,
   "id": "8a5fca41",
   "metadata": {},
   "outputs": [
    {
     "name": "stdout",
     "output_type": "stream",
     "text": [
      "Enter a number 7\n",
      "7 is a prime number.\n"
     ]
    }
   ],
   "source": [
    "#14. Python Program to Check Prime Number.\n",
    "\n",
    "#Input from user:\n",
    "num = int(input(\"Enter a number \"))\n",
    "Flag = False\n",
    "\n",
    "if num == 1:\n",
    "    print(f\"{num} is not a prime number\")\n",
    "else:\n",
    "    for i in range(2, num):\n",
    "        if (num%i) == 0:\n",
    "            Flag = True\n",
    "            break\n",
    "        else:\n",
    "            pass\n",
    "\n",
    "if Flag:\n",
    "    print(f\"{num} is a not prime number.\")\n",
    "else:\n",
    "    print(f\"{num} is a prime number.\")           "
   ]
  },
  {
   "cell_type": "code",
   "execution_count": 23,
   "id": "6b725c3d",
   "metadata": {},
   "outputs": [
    {
     "name": "stdout",
     "output_type": "stream",
     "text": [
      "[1, 2, 3, 5, 7]\n"
     ]
    }
   ],
   "source": [
    "#15. Python Program to Print all Prime Numbers in an Interval of 1-10.\n",
    "#Create a list of numbers between 1 - 10:\n",
    "number_list = []\n",
    "for i in range(1,11):\n",
    "    number_list.append(i)\n",
    "    \n",
    "prime_list = []\n",
    "for num in number_list:\n",
    "    Flag = False\n",
    "\n",
    "    if num == 1:\n",
    "        pass\n",
    "    else:\n",
    "        for i in range(2, num):\n",
    "            if (num%i) == 0:\n",
    "                Flag = True\n",
    "                break\n",
    "            else:\n",
    "                pass\n",
    "\n",
    "    if Flag:\n",
    "        pass\n",
    "    else:\n",
    "        prime_list.append(num)\n",
    "print(prime_list)"
   ]
  },
  {
   "cell_type": "code",
   "execution_count": 29,
   "id": "23c9a734",
   "metadata": {},
   "outputs": [
    {
     "name": "stdout",
     "output_type": "stream",
     "text": [
      "The list of prime number between 1 and 12 are:\n",
      "2\n",
      "3\n",
      "5\n",
      "7\n",
      "11\n"
     ]
    }
   ],
   "source": [
    "lower = 1\n",
    "upper = 12\n",
    "print(f\"The list of prime number between {lower} and {upper} are:\")\n",
    "for num in range(lower, upper + 1):\n",
    "    if num > 1:\n",
    "        for i in range(2, num):\n",
    "            if (num % i) == 0:\n",
    "                break\n",
    "        else:\n",
    "            print(num)"
   ]
  },
  {
   "cell_type": "code",
   "execution_count": 34,
   "id": "23e7216e",
   "metadata": {},
   "outputs": [
    {
     "name": "stdout",
     "output_type": "stream",
     "text": [
      "Enter a number7\n",
      "The factorial of 7 is 5040.\n"
     ]
    }
   ],
   "source": [
    "#16. Python Program to Find the Factorial of a Number.\n",
    "num = int(input(\"Enter a number\"))\n",
    "if num < 0:\n",
    "    print(\"Please enter a positive number.10\")\n",
    "elif (num == 0) or (num == 1):\n",
    "    print(f\"The factorial of {num} is 1.\")\n",
    "else:\n",
    "    factorial = 1\n",
    "    for i in range(1, num + 1):\n",
    "        factorial = factorial * i\n",
    "    print(f\"The factorial of {num} is {factorial}.\")    "
   ]
  },
  {
   "cell_type": "code",
   "execution_count": 37,
   "id": "a19ce9bb",
   "metadata": {},
   "outputs": [
    {
     "name": "stdout",
     "output_type": "stream",
     "text": [
      "Enter a number5\n",
      "Table Multiplication of 5:\n",
      "5 * 1 = 5\n",
      "5 * 2 = 10\n",
      "5 * 3 = 15\n",
      "5 * 4 = 20\n",
      "5 * 5 = 25\n",
      "5 * 6 = 30\n",
      "5 * 7 = 35\n",
      "5 * 8 = 40\n",
      "5 * 9 = 45\n",
      "5 * 10 = 50\n"
     ]
    }
   ],
   "source": [
    "#17. Python Program to Display the multiplication Table.\n",
    "num = int(input(\"Enter a number\"))\n",
    "print(f\"Table Multiplication of {num}:\")\n",
    "for i in range(1, 10 + 1):\n",
    "    print(f\"{num} * {i} = {num * i}\")"
   ]
  },
  {
   "cell_type": "code",
   "execution_count": 60,
   "id": "cfb28aa1",
   "metadata": {},
   "outputs": [
    {
     "name": "stdout",
     "output_type": "stream",
     "text": [
      "Enter the number of terms 15\n",
      "The Fibonacci sequence of 15 terms is\n",
      "0,1,1,2,3,5,8,13,21,34,55,89,144,233,377,"
     ]
    }
   ],
   "source": [
    "#18. Python Program to Print the Fibonacci sequence.\n",
    "def Fibonacci_term(n):\n",
    "    n1 = 0\n",
    "    n2 = 1\n",
    "    result = 0\n",
    "    if n < 0:\n",
    "        print(\"Enter positive number of terms\")\n",
    "    elif n == 1:\n",
    "        return n1\n",
    "    elif n == 2:\n",
    "        return n2\n",
    "    else:\n",
    "        for i in range(3,n + 1):\n",
    "            result = n1 + n2\n",
    "            n1 = n2\n",
    "            n2 = result\n",
    "        return result\n",
    "    \n",
    "#Take input from the user.   \n",
    "n_terms = int(input(\"Enter the number of terms \"))\n",
    "fib_seq = []\n",
    "print(f\"The Fibonacci sequence of {n_terms} terms is\")\n",
    "for i in range(1,n_terms + 1):\n",
    "    print(f\"{Fibonacci_term(i)}\",end = ',')       "
   ]
  },
  {
   "cell_type": "code",
   "execution_count": 53,
   "id": "734736f9",
   "metadata": {},
   "outputs": [
    {
     "data": {
      "text/plain": [
       "5"
      ]
     },
     "execution_count": 53,
     "metadata": {},
     "output_type": "execute_result"
    }
   ],
   "source": [
    "Fibonacci_term(6)"
   ]
  },
  {
   "cell_type": "code",
   "execution_count": null,
   "id": "2b595c13",
   "metadata": {},
   "outputs": [],
   "source": []
  },
  {
   "cell_type": "code",
   "execution_count": null,
   "id": "bb1cc570",
   "metadata": {},
   "outputs": [],
   "source": []
  }
 ],
 "metadata": {
  "kernelspec": {
   "display_name": "Python 3 (ipykernel)",
   "language": "python",
   "name": "python3"
  },
  "language_info": {
   "codemirror_mode": {
    "name": "ipython",
    "version": 3
   },
   "file_extension": ".py",
   "mimetype": "text/x-python",
   "name": "python",
   "nbconvert_exporter": "python",
   "pygments_lexer": "ipython3",
   "version": "3.11.3"
  }
 },
 "nbformat": 4,
 "nbformat_minor": 5
}
