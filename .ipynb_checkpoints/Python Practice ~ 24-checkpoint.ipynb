{
 "cells": [
  {
   "cell_type": "markdown",
   "id": "425a4871",
   "metadata": {},
   "source": [
    "**Python Basics**"
   ]
  },
  {
   "cell_type": "code",
   "execution_count": 72,
   "id": "064c603b",
   "metadata": {},
   "outputs": [
    {
     "name": "stdout",
     "output_type": "stream",
     "text": [
      "Hello World\n"
     ]
    }
   ],
   "source": [
    "#Print Hello world.\n",
    "print('Hello World')"
   ]
  },
  {
   "cell_type": "code",
   "execution_count": 3,
   "id": "e4591e30",
   "metadata": {},
   "outputs": [
    {
     "name": "stdout",
     "output_type": "stream",
     "text": [
      "/Users/mht/Desktop\n"
     ]
    }
   ],
   "source": [
    "#Get working directory address.\n",
    "import os\n",
    "print(os.getcwd())"
   ]
  },
  {
   "cell_type": "code",
   "execution_count": 6,
   "id": "c7db610b",
   "metadata": {},
   "outputs": [
    {
     "name": "stdout",
     "output_type": "stream",
     "text": [
      "macOS-10.16-x86_64-i386-64bit\n",
      "\n",
      "\n",
      "Darwin Kernel Version 21.6.0: Wed Oct  4 23:55:28 PDT 2023; root:xnu-8020.240.18.704.15~1/RELEASE_X86_64\n",
      "\n",
      "\n",
      "Darwin\n",
      "\n",
      "\n",
      "21.6.0\n"
     ]
    }
   ],
   "source": [
    "import platform\n",
    "print(platform.platform())\n",
    "print('\\n')\n",
    "print(platform.version())\n",
    "print('\\n')\n",
    "print(platform.system())\n",
    "print('\\n')\n",
    "print(platform.release())"
   ]
  },
  {
   "cell_type": "code",
   "execution_count": 7,
   "id": "a39f7bd8",
   "metadata": {},
   "outputs": [
    {
     "name": "stdout",
     "output_type": "stream",
     "text": [
      "14\n",
      "2.5\n",
      "40\n",
      "2\n"
     ]
    }
   ],
   "source": [
    "#Arithmetic operations:\n",
    "print(10 + 4)\n",
    "print(10 / 4)\n",
    "print(10 * 4)\n",
    "print(10 % 4)"
   ]
  },
  {
   "cell_type": "code",
   "execution_count": 8,
   "id": "d147488e",
   "metadata": {},
   "outputs": [
    {
     "name": "stdout",
     "output_type": "stream",
     "text": [
      "10\n",
      "14\n"
     ]
    }
   ],
   "source": [
    "#Multiple assignment:\n",
    "a, b = 10, 14\n",
    "print(a)\n",
    "print(b)"
   ]
  },
  {
   "cell_type": "code",
   "execution_count": 11,
   "id": "539a01f7",
   "metadata": {},
   "outputs": [
    {
     "name": "stdout",
     "output_type": "stream",
     "text": [
      "The first number is 2.\n",
      "The second number is 4.\n",
      "\n",
      "\n",
      "Results after swapping:\n",
      "The first number is 4.\n",
      "The second number is 2.\n"
     ]
    }
   ],
   "source": [
    "#Swapping of two numbers.\n",
    "a, b = 2, 4\n",
    "print('The first number is {}.'.format(a))\n",
    "print('The second number is {}.'.format(b))\n",
    "print('\\n')\n",
    "b,a = a,b\n",
    "print('Results after swapping:')\n",
    "print('The first number is {}.'.format(a))\n",
    "print('The second number is {}.'.format(b))"
   ]
  },
  {
   "cell_type": "code",
   "execution_count": 12,
   "id": "5a65465d",
   "metadata": {},
   "outputs": [
    {
     "name": "stdout",
     "output_type": "stream",
     "text": [
      "(1, 2.5, 'Mohit', True, None, (1, 2))\n",
      "1\n",
      "2.5\n",
      "(1, 2)\n",
      "None\n",
      "(1, 2.5, 'Mohit')\n",
      "(1, 'Mohit', None)\n",
      "((1, 2), None, True, 'Mohit', 2.5, 1)\n",
      "((1, 2), True, 2.5)\n"
     ]
    }
   ],
   "source": [
    "#Data Structures in Python.\n",
    "#1. Tuple\n",
    "first_tuple = (1, 2.5, 'Mohit', True, None, (1,2))\n",
    "print(first_tuple)\n",
    "print(first_tuple[0])\n",
    "print(first_tuple[1])\n",
    "print(first_tuple[-1])\n",
    "print(first_tuple[-2])\n",
    "print(first_tuple[0:3])\n",
    "print(first_tuple[0:5:2])\n",
    "print(first_tuple[::-1])\n",
    "print(first_tuple[::-2])"
   ]
  },
  {
   "cell_type": "code",
   "execution_count": 29,
   "id": "f22ec920",
   "metadata": {},
   "outputs": [
    {
     "name": "stdout",
     "output_type": "stream",
     "text": [
      "[1, 2.4, 'Anu', True, None, (1, 2), [3, 4, 5, 6]]\n",
      "1\n",
      "2.4\n",
      "[1, 2.4, 'Anu', True]\n",
      "[1, 'Anu']\n",
      "[[3, 4, 5, 6], (1, 2), None, True, 'Anu', 2.4, 1]\n",
      "[[3, 4, 5, 6], None, 'Anu', 1]\n",
      "[3, 4, 5, 6]\n"
     ]
    }
   ],
   "source": [
    "#2. List\n",
    "first_list = [1, 2.4, 'Anu', True, None, (1,2), [3,4,5,6]]\n",
    "print(first_list)\n",
    "print(first_list[0])\n",
    "print(first_list[1])\n",
    "print(first_list[0:4])\n",
    "print(first_list[0:4:2])\n",
    "print(first_list[::-1])\n",
    "print(first_list[::-2])\n",
    "print(first_list[-1])"
   ]
  },
  {
   "cell_type": "code",
   "execution_count": 30,
   "id": "81e41eff",
   "metadata": {},
   "outputs": [
    {
     "name": "stdout",
     "output_type": "stream",
     "text": [
      "[1, 2.4, 'Anu', True, None, (1, 2), [3, 4, 5, 6], 1, True, 'Mohit', (90, 80), [70, 60]]\n"
     ]
    }
   ],
   "source": [
    "#Operations on list.\n",
    "first_list.append(1)\n",
    "first_list.append(True)\n",
    "first_list.append('Mohit')\n",
    "first_list.append((90,80))\n",
    "first_list.append([70,60])\n",
    "print(first_list)"
   ]
  },
  {
   "cell_type": "code",
   "execution_count": 31,
   "id": "c24dbd8f",
   "metadata": {},
   "outputs": [
    {
     "name": "stdout",
     "output_type": "stream",
     "text": [
      "[1, 3.5, 'Anu', True, None, [3, 4, 5, 6], 1, True, 'Mohit', (90, 80), [70, 60]]\n"
     ]
    }
   ],
   "source": [
    "first_list.pop(1)\n",
    "first_list.insert(1,3.5)\n",
    "first_list.remove((1,2))\n",
    "print(first_list)"
   ]
  },
  {
   "cell_type": "code",
   "execution_count": 14,
   "id": "8dd483d1",
   "metadata": {},
   "outputs": [
    {
     "name": "stdout",
     "output_type": "stream",
     "text": [
      "{1, 2, 4, 5, 8}\n",
      "{1, 3, 4, 6, 7, 8}\n"
     ]
    }
   ],
   "source": [
    "#3. Sets\n",
    "set_1 = {1,2,2,4,4,4,5,5,8}\n",
    "set_2 = {1,3,4,6,7,8}\n",
    "print(set_1)\n",
    "print(set_2)"
   ]
  },
  {
   "cell_type": "code",
   "execution_count": 16,
   "id": "fafcbe99",
   "metadata": {},
   "outputs": [
    {
     "name": "stdout",
     "output_type": "stream",
     "text": [
      "{1, 2, 3, 4, 5, 6, 7, 8}\n",
      "{8, 1, 4}\n",
      "{2, 5}\n",
      "{3, 6, 7}\n"
     ]
    }
   ],
   "source": [
    "#Operations on sets.\n",
    "print(set_1 | set_2)\n",
    "print(set_1 & set_2)\n",
    "print(set_1 - set_2)\n",
    "print(set_2 - set_1)"
   ]
  },
  {
   "cell_type": "code",
   "execution_count": 32,
   "id": "b2802472",
   "metadata": {},
   "outputs": [
    {
     "name": "stdout",
     "output_type": "stream",
     "text": [
      "{'a': 500, 'b': 600}\n",
      "dict_keys(['a', 'b'])\n",
      "dict_values([500, 600])\n",
      "500\n",
      "600\n"
     ]
    }
   ],
   "source": [
    "#4. Dictionaries\n",
    "first_dict = {'a': 500, 'b': 600}\n",
    "print(first_dict)\n",
    "print(first_dict.keys())\n",
    "print(first_dict.values())\n",
    "print(first_dict['a'])\n",
    "print(first_dict['b'])"
   ]
  },
  {
   "cell_type": "code",
   "execution_count": 33,
   "id": "9b09d06a",
   "metadata": {},
   "outputs": [
    {
     "name": "stdout",
     "output_type": "stream",
     "text": [
      "{'a': 500, 'b': 600, 'c': 1000}\n",
      "\n",
      "\n",
      "{'a': 500, 'c': 1000}\n"
     ]
    }
   ],
   "source": [
    "#operations on dictionary.\n",
    "first_dict['c'] = 1000\n",
    "print(first_dict)\n",
    "print('\\n')\n",
    "del first_dict['b']\n",
    "print(first_dict)"
   ]
  },
  {
   "cell_type": "code",
   "execution_count": 35,
   "id": "2d3ff390",
   "metadata": {},
   "outputs": [
    {
     "name": "stdout",
     "output_type": "stream",
     "text": [
      "{'India': ['Jharkhand', 'Delhi', 'West Bengal'], 'UK': ['England', 'Londoan'], 'United States': ['New York', 'Los Angles', 'California']}\n",
      "\n",
      "\n",
      "['Jharkhand', 'Delhi', 'West Bengal']\n",
      "\n",
      "\n",
      "dict_keys(['India', 'UK', 'United States'])\n",
      "\n",
      "\n",
      "dict_values([['Jharkhand', 'Delhi', 'West Bengal'], ['England', 'Londoan'], ['New York', 'Los Angles', 'California']])\n"
     ]
    }
   ],
   "source": [
    "second_dict = {'India': ['Jharkhand', 'Delhi', 'West Bengal'],\n",
    "              'UK': ['England', 'Londoan'],\n",
    "              'United States': ['New York', 'Los Angles', 'California']}\n",
    "print(second_dict)\n",
    "print('\\n')\n",
    "print(second_dict['India'])\n",
    "print('\\n')\n",
    "print(second_dict.keys())\n",
    "print('\\n')\n",
    "print(second_dict.values())"
   ]
  },
  {
   "cell_type": "code",
   "execution_count": 38,
   "id": "93f45a51",
   "metadata": {},
   "outputs": [
    {
     "name": "stdout",
     "output_type": "stream",
     "text": [
      "{'2017': {'USA': 1000, 'India': 800}, '2018': {'USA': 1100, 'India': 850}}\n",
      "\n",
      "\n",
      "{'USA': 1000, 'India': 800}\n",
      "\n",
      "\n",
      "1000\n"
     ]
    }
   ],
   "source": [
    "#Nested Dictionary.\n",
    "gdp_year = {'2017':{'USA': 1000, 'India': 800}, '2018':{'USA': 1100, 'India': 850}}\n",
    "print(gdp_year)\n",
    "print('\\n')\n",
    "print(gdp_year['2017'])\n",
    "print('\\n')\n",
    "print(gdp_year['2017']['USA'])"
   ]
  },
  {
   "cell_type": "code",
   "execution_count": 40,
   "id": "fe63903a",
   "metadata": {},
   "outputs": [
    {
     "name": "stdout",
     "output_type": "stream",
     "text": [
      "Hello! from first fuction.\n"
     ]
    }
   ],
   "source": [
    "#Functions in Python.\n",
    "#First function\n",
    "def first_fun():\n",
    "    print('Hello! from first fuction.')\n",
    "\n",
    "first_fun()"
   ]
  },
  {
   "cell_type": "code",
   "execution_count": 41,
   "id": "06d3341b",
   "metadata": {},
   "outputs": [],
   "source": [
    "#Function that return nothing.\n",
    "def null_fun():\n",
    "    pass\n",
    "null_fun()"
   ]
  },
  {
   "cell_type": "code",
   "execution_count": 42,
   "id": "9f3c841b",
   "metadata": {},
   "outputs": [
    {
     "name": "stdout",
     "output_type": "stream",
     "text": [
      "Hello! from Mohit\n"
     ]
    }
   ],
   "source": [
    "#Function that take argument.\n",
    "def arg_fun(arg):\n",
    "    print('Hello! from ' + arg)\n",
    "arg_fun('Mohit')"
   ]
  },
  {
   "cell_type": "code",
   "execution_count": 45,
   "id": "b663013c",
   "metadata": {},
   "outputs": [
    {
     "name": "stdout",
     "output_type": "stream",
     "text": [
      "The area of rectangle is 200.\n",
      "The area of rectangle is 200.\n",
      "<class 'NoneType'>\n"
     ]
    }
   ],
   "source": [
    "#Area of a rectangle.\n",
    "def area_rectangle(l,b):\n",
    "    area = l * b\n",
    "    print('The area of rectangle is {}.'.format(area))\n",
    "area_rectangle(10,20)\n",
    "print(type(area_rectangle(10,20)))"
   ]
  },
  {
   "cell_type": "code",
   "execution_count": 46,
   "id": "753b1ed6",
   "metadata": {},
   "outputs": [
    {
     "data": {
      "text/plain": [
       "600"
      ]
     },
     "execution_count": 46,
     "metadata": {},
     "output_type": "execute_result"
    }
   ],
   "source": [
    "def area_rectangle(l,b):\n",
    "    area = l * b\n",
    "    return area\n",
    "area_rectangle(20,30)"
   ]
  },
  {
   "cell_type": "code",
   "execution_count": 47,
   "id": "26450134",
   "metadata": {},
   "outputs": [
    {
     "name": "stdout",
     "output_type": "stream",
     "text": [
      "Elegible to vote\n"
     ]
    }
   ],
   "source": [
    "#Can vote function.\n",
    "def can_vote_fun(age):\n",
    "    if age >= 18:\n",
    "        print('Elegible to vote')\n",
    "    else:\n",
    "        print('Not elegible to vote')\n",
    "can_vote_fun(19)"
   ]
  },
  {
   "cell_type": "code",
   "execution_count": 48,
   "id": "d7cb4862",
   "metadata": {},
   "outputs": [
    {
     "name": "stdout",
     "output_type": "stream",
     "text": [
      "Grade B\n"
     ]
    }
   ],
   "source": [
    "#Grade function:\n",
    "def grade_fun(marks):\n",
    "    if marks >= 90:\n",
    "        print('Grade A')\n",
    "    elif marks >= 80:\n",
    "        print('Grade B')\n",
    "    elif marks >= 70:\n",
    "        print('Grade C')\n",
    "    elif marks >= 60:\n",
    "        print('Grade D')\n",
    "    else:\n",
    "        print('Grade E')\n",
    "        \n",
    "grade_fun(85)"
   ]
  },
  {
   "cell_type": "code",
   "execution_count": 54,
   "id": "0d7a80e3",
   "metadata": {},
   "outputs": [
    {
     "name": "stdout",
     "output_type": "stream",
     "text": [
      "5.0\n",
      "\n",
      "\n",
      "Can't divide by zero\n",
      "None\n",
      "\n",
      "\n",
      "Can't divide by string\n",
      "None\n"
     ]
    }
   ],
   "source": [
    "def division_fun(a,b):\n",
    "    try:\n",
    "        return a/b\n",
    "    except ZeroDivisionError:\n",
    "        print(\"Can't divide by zero\")\n",
    "    except TypeError:\n",
    "        print(\"Can't divide by string\")\n",
    "\n",
    "print(division_fun(10,2))\n",
    "print('\\n')\n",
    "print(division_fun(10,0))\n",
    "print('\\n')\n",
    "print(division_fun(10,'Mohit'))"
   ]
  },
  {
   "cell_type": "code",
   "execution_count": 65,
   "id": "d46adede",
   "metadata": {},
   "outputs": [
    {
     "data": {
      "text/plain": [
       "[(0, 2), (1, 3), (2, 4), (3, 5), (4, 6)]"
      ]
     },
     "execution_count": 65,
     "metadata": {},
     "output_type": "execute_result"
    }
   ],
   "source": [
    "a = [2,3,4,5,6]\n",
    "list(enumerate(a))"
   ]
  },
  {
   "cell_type": "code",
   "execution_count": 66,
   "id": "780accc7",
   "metadata": {},
   "outputs": [
    {
     "name": "stdout",
     "output_type": "stream",
     "text": [
      "[(0, 20), (1, 30), (2, 40), (3, 50), (4, 60)]\n"
     ]
    }
   ],
   "source": [
    "b = [20,30,40,50,60]\n",
    "print(list(enumerate(b)))"
   ]
  },
  {
   "cell_type": "code",
   "execution_count": 58,
   "id": "3c9c4a10",
   "metadata": {},
   "outputs": [
    {
     "name": "stdout",
     "output_type": "stream",
     "text": [
      "[(2, 20), (3, 30), (4, 40), (5, 50), (6, 60)]\n"
     ]
    }
   ],
   "source": [
    "print(list(zip(a,b)))"
   ]
  },
  {
   "cell_type": "code",
   "execution_count": 67,
   "id": "065ad2e7",
   "metadata": {},
   "outputs": [
    {
     "name": "stdout",
     "output_type": "stream",
     "text": [
      "0 2\n",
      "1 3\n",
      "2 4\n",
      "3 5\n",
      "4 6\n"
     ]
    }
   ],
   "source": [
    "for i, j in enumerate(a):\n",
    "    print(i,j)"
   ]
  },
  {
   "cell_type": "code",
   "execution_count": 71,
   "id": "fe083802",
   "metadata": {},
   "outputs": [
    {
     "name": "stdout",
     "output_type": "stream",
     "text": [
      "10.0\n",
      "10.0\n",
      "10.0\n",
      "10.0\n",
      "10.0\n"
     ]
    }
   ],
   "source": [
    "for i, j in zip(a,b):\n",
    "    print(j / i)"
   ]
  },
  {
   "cell_type": "markdown",
   "id": "49a0de6e",
   "metadata": {},
   "source": [
    "**Numpy**"
   ]
  },
  {
   "cell_type": "code",
   "execution_count": 73,
   "id": "71bf78b4",
   "metadata": {},
   "outputs": [],
   "source": [
    "distance = [100, 150, 300, 500]\n",
    "time = [5, 10, 10, 20]"
   ]
  },
  {
   "cell_type": "code",
   "execution_count": 75,
   "id": "58f4a284",
   "metadata": {},
   "outputs": [],
   "source": [
    "#speed = distance/time"
   ]
  },
  {
   "cell_type": "code",
   "execution_count": 76,
   "id": "6257a1e8",
   "metadata": {},
   "outputs": [],
   "source": [
    "import numpy as np"
   ]
  },
  {
   "cell_type": "code",
   "execution_count": 77,
   "id": "2a2d7c01",
   "metadata": {},
   "outputs": [
    {
     "name": "stdout",
     "output_type": "stream",
     "text": [
      "[100 150 300 500]\n",
      "<class 'numpy.ndarray'>\n",
      "[ 5 10 10 20]\n",
      "<class 'numpy.ndarray'>\n",
      "[20. 15. 30. 25.]\n",
      "<class 'numpy.ndarray'>\n"
     ]
    }
   ],
   "source": [
    "np_distance = np.array(distance)\n",
    "np_time = np.array(time)\n",
    "speed = np_distance/np_time\n",
    "print(np_distance)\n",
    "print(type(np_distance))\n",
    "print(np_time)\n",
    "print(type(np_time))\n",
    "print(speed)\n",
    "print(type(speed))"
   ]
  },
  {
   "cell_type": "code",
   "execution_count": 78,
   "id": "fc191d56",
   "metadata": {},
   "outputs": [],
   "source": [
    "#1D, 2D, 3D array.\n",
    "one_darray = np.array([10,20,30,40,50])\n",
    "two_darray = np.array([[1,2,3,4],[10,9,8,7]])\n",
    "three_darray = np.array([[[10,11,12],[13,14,15]],[[1,1,2],[3,4,5]]])"
   ]
  },
  {
   "cell_type": "code",
   "execution_count": 79,
   "id": "eceea65f",
   "metadata": {},
   "outputs": [
    {
     "name": "stdout",
     "output_type": "stream",
     "text": [
      "1\n",
      "(5,)\n",
      "5\n",
      "int64\n"
     ]
    }
   ],
   "source": [
    "#Operations on 1D array.\n",
    "print(one_darray.ndim)\n",
    "print(one_darray.shape)\n",
    "print(one_darray.size)\n",
    "print(one_darray.dtype)"
   ]
  },
  {
   "cell_type": "code",
   "execution_count": 81,
   "id": "ded2fe09",
   "metadata": {},
   "outputs": [
    {
     "name": "stdout",
     "output_type": "stream",
     "text": [
      "[10 20 30 40 50]\n",
      "10\n",
      "20\n",
      "[10 20 30]\n",
      "[10 30]\n",
      "50\n",
      "[50 40 30 20 10]\n",
      "[50 30 10]\n"
     ]
    }
   ],
   "source": [
    "print(one_darray)\n",
    "print(one_darray[0])\n",
    "print(one_darray[1])\n",
    "print(one_darray[0:3])\n",
    "print(one_darray[0:4:2])\n",
    "print(one_darray[-1])\n",
    "print(one_darray[::-1])\n",
    "print(one_darray[::-2])"
   ]
  },
  {
   "cell_type": "code",
   "execution_count": 83,
   "id": "19eec617",
   "metadata": {},
   "outputs": [
    {
     "name": "stdout",
     "output_type": "stream",
     "text": [
      "[[ 1  2  3  4]\n",
      " [10  9  8  7]]\n",
      "2\n",
      "(2, 4)\n",
      "8\n",
      "int64\n"
     ]
    }
   ],
   "source": [
    "#Operations on 2D array.\n",
    "print(two_darray)\n",
    "print(two_darray.ndim)\n",
    "print(two_darray.shape)\n",
    "print(two_darray.size)\n",
    "print(two_darray.dtype)"
   ]
  },
  {
   "cell_type": "code",
   "execution_count": 84,
   "id": "c2a95dd4",
   "metadata": {},
   "outputs": [
    {
     "name": "stdout",
     "output_type": "stream",
     "text": [
      "[[ 1  2  3  4]\n",
      " [10  9  8  7]]\n",
      "[1 2 3 4]\n",
      "[10  9  8  7]\n",
      "1\n",
      "4\n",
      "[2 9]\n",
      "[4 7]\n"
     ]
    }
   ],
   "source": [
    "print(two_darray)\n",
    "print(two_darray[0])\n",
    "print(two_darray[1])\n",
    "print(two_darray[0][0])\n",
    "print(two_darray[0][3])\n",
    "print(two_darray[:,1])\n",
    "print(two_darray[:,3])"
   ]
  },
  {
   "cell_type": "code",
   "execution_count": 85,
   "id": "56ef9507",
   "metadata": {},
   "outputs": [
    {
     "name": "stdout",
     "output_type": "stream",
     "text": [
      "[[[10 11 12]\n",
      "  [13 14 15]]\n",
      "\n",
      " [[ 1  1  2]\n",
      "  [ 3  4  5]]]\n",
      "3\n",
      "(2, 2, 3)\n",
      "12\n",
      "int64\n"
     ]
    }
   ],
   "source": [
    "#Operations on 3D array.\n",
    "print(three_darray)\n",
    "print(three_darray.ndim)\n",
    "print(three_darray.shape)\n",
    "print(three_darray.size)\n",
    "print(three_darray.dtype)"
   ]
  },
  {
   "cell_type": "code",
   "execution_count": 86,
   "id": "da53c7ea",
   "metadata": {},
   "outputs": [
    {
     "name": "stdout",
     "output_type": "stream",
     "text": [
      "[[[10 11 12]\n",
      "  [13 14 15]]\n",
      "\n",
      " [[ 1  1  2]\n",
      "  [ 3  4  5]]]\n",
      "[1 1 2]\n",
      "[3 4 5]\n",
      "1\n",
      "[10 11 12]\n",
      "[11 14]\n",
      "[1 3]\n"
     ]
    }
   ],
   "source": [
    "print(three_darray)\n",
    "print(three_darray[1][0])\n",
    "print(three_darray[1][1])\n",
    "print(three_darray[1][0][0])\n",
    "print(three_darray[0][0])\n",
    "print(three_darray[0][:,1])\n",
    "print(three_darray[1][:,0])"
   ]
  },
  {
   "cell_type": "code",
   "execution_count": 89,
   "id": "4e31e82a",
   "metadata": {},
   "outputs": [
    {
     "name": "stdout",
     "output_type": "stream",
     "text": [
      "[[ 1  2  3  4]\n",
      " [10  9  8  7]]\n",
      "3.2015621187164243\n",
      "1\n",
      "0\n",
      "10\n",
      "4\n",
      "5.5\n",
      "44\n"
     ]
    }
   ],
   "source": [
    "#General operations on a array.\n",
    "print(two_darray)\n",
    "print(two_darray.std())\n",
    "print(two_darray.min())\n",
    "print(two_darray.argmin())\n",
    "print(two_darray.max())\n",
    "print(two_darray.argmax())\n",
    "print(two_darray.mean())\n",
    "print(two_darray.sum())"
   ]
  },
  {
   "cell_type": "code",
   "execution_count": 93,
   "id": "c72d2fb8",
   "metadata": {},
   "outputs": [
    {
     "name": "stdout",
     "output_type": "stream",
     "text": [
      "[[0. 0. 0.]\n",
      " [0. 0. 0.]\n",
      " [0. 0. 0.]]\n",
      "[[1. 0. 0. 0.]\n",
      " [0. 1. 0. 0.]\n",
      " [0. 0. 1. 0.]\n",
      " [0. 0. 0. 1.]]\n",
      "[[6 6 6]\n",
      " [6 6 6]\n",
      " [6 6 6]]\n",
      "[[1. 1. 1.]\n",
      " [1. 1. 1.]\n",
      " [1. 1. 1.]]\n"
     ]
    }
   ],
   "source": [
    "#Matix Creation\n",
    "print(np.zeros([3,3]))\n",
    "print(np.identity(4))\n",
    "print(np.full([3,3],6))\n",
    "print(np.ones([3,3]))"
   ]
  },
  {
   "cell_type": "code",
   "execution_count": 94,
   "id": "ac659381",
   "metadata": {},
   "outputs": [
    {
     "name": "stdout",
     "output_type": "stream",
     "text": [
      "[-0.41614684 -0.93645669 -0.11215253  0.28366219]\n",
      "[ 0.90929743 -0.35078323 -0.993691   -0.95892427]\n",
      "[  7.3890561   33.11545196  99.48431564 148.4131591 ]\n",
      "[2. 3. 4. 5.]\n",
      "[2. 4. 5. 5.]\n"
     ]
    }
   ],
   "source": [
    "a = [2,3.5,4.6,5]\n",
    "print(np.cos(a))\n",
    "print(np.sin(a))\n",
    "print(np.exp(a))\n",
    "print(np.floor(a))\n",
    "print(np.ceil(a))"
   ]
  },
  {
   "cell_type": "code",
   "execution_count": 96,
   "id": "0f4d5842",
   "metadata": {},
   "outputs": [
    {
     "name": "stdout",
     "output_type": "stream",
     "text": [
      "[[ 1  2  3  4]\n",
      " [10  9  8  7]]\n",
      "[[ 1  2  3  4]\n",
      " [10  9  8  7]]\n",
      "0x10d24d9b0\n",
      "0x10d24d9b0\n"
     ]
    }
   ],
   "source": [
    "#Simple assignment\n",
    "x = two_darray\n",
    "print(x)\n",
    "print(two_darray)\n",
    "print(hex(id(x)))\n",
    "print(hex(id(two_darray)))"
   ]
  },
  {
   "cell_type": "code",
   "execution_count": 97,
   "id": "ad46aafe",
   "metadata": {},
   "outputs": [
    {
     "name": "stdout",
     "output_type": "stream",
     "text": [
      "[[-1  2  3  4]\n",
      " [10  9  8  7]]\n",
      "[[-1  2  3  4]\n",
      " [10  9  8  7]]\n"
     ]
    }
   ],
   "source": [
    "x[0][0] = -1\n",
    "print(x)\n",
    "print(two_darray)"
   ]
  },
  {
   "cell_type": "code",
   "execution_count": 106,
   "id": "5fec3e12",
   "metadata": {},
   "outputs": [
    {
     "name": "stdout",
     "output_type": "stream",
     "text": [
      "[[ 1  2  3  4]\n",
      " [10  9  8  7]]\n",
      "[[ 1  2  3  4]\n",
      " [10  9  8  7]]\n",
      "0x10f853cf0\n",
      "0x10d24d9b0\n"
     ]
    }
   ],
   "source": [
    "#Swallow copy.\n",
    "y = two_darray.view()\n",
    "print(y)\n",
    "print(two_darray)\n",
    "print(hex(id(y)))\n",
    "print(hex(id(two_darray)))"
   ]
  },
  {
   "cell_type": "code",
   "execution_count": 107,
   "id": "4bdbbcb4",
   "metadata": {},
   "outputs": [
    {
     "name": "stdout",
     "output_type": "stream",
     "text": [
      "[[-1  2  3  4]\n",
      " [10  9  8  7]]\n",
      "[[-1  2  3  4]\n",
      " [10  9  8  7]]\n"
     ]
    }
   ],
   "source": [
    "#Original data changes when variable data is changed.\n",
    "y[0][0] = -1\n",
    "print(y)\n",
    "print(two_darray)"
   ]
  },
  {
   "cell_type": "code",
   "execution_count": 102,
   "id": "37888725",
   "metadata": {},
   "outputs": [
    {
     "name": "stdout",
     "output_type": "stream",
     "text": [
      "[[ 1  2  3  4]\n",
      " [10  9  8  7]]\n",
      "[[ 1  2  3  4]\n",
      " [10  9  8  7]]\n",
      "0x10c543c30\n",
      "0x10d24d9b0\n"
     ]
    }
   ],
   "source": [
    "#Deep Copy.\n",
    "z = two_darray.copy()\n",
    "print(z)\n",
    "print(two_darray)\n",
    "print(hex(id(z)))\n",
    "print(hex(id(two_darray)))"
   ]
  },
  {
   "cell_type": "code",
   "execution_count": 104,
   "id": "c65af3f6",
   "metadata": {},
   "outputs": [
    {
     "name": "stdout",
     "output_type": "stream",
     "text": [
      "[[-1  2  3  4]\n",
      " [10  9  8  7]]\n",
      "[[ 1  2  3  4]\n",
      " [10  9  8  7]]\n"
     ]
    }
   ],
   "source": [
    "#Original data remains same here when variable data is changed.\n",
    "z[0][0] = -1\n",
    "print(z)\n",
    "print(two_darray)"
   ]
  },
  {
   "cell_type": "code",
   "execution_count": 108,
   "id": "40721b3d",
   "metadata": {},
   "outputs": [
    {
     "name": "stdout",
     "output_type": "stream",
     "text": [
      "[-1  2  3  4 10  9  8  7]\n",
      "[-1  2  3  4 10  9  8  7]\n",
      "[[-1  2  3  4]\n",
      " [10  9  8  7]]\n"
     ]
    }
   ],
   "source": [
    "#Ravel and flatten.\n",
    "print(two_darray.ravel())\n",
    "print(two_darray.flatten())\n",
    "print(two_darray)"
   ]
  },
  {
   "cell_type": "code",
   "execution_count": 119,
   "id": "179a078a",
   "metadata": {},
   "outputs": [],
   "source": [
    "r = np.array([10,20,30,40,50,60])"
   ]
  },
  {
   "cell_type": "code",
   "execution_count": 120,
   "id": "b8d644d5",
   "metadata": {},
   "outputs": [
    {
     "name": "stdout",
     "output_type": "stream",
     "text": [
      "[[10 20 30]\n",
      " [40 50 60]]\n",
      "[10 20 30 40 50 60]\n"
     ]
    }
   ],
   "source": [
    "#Reshape and Resize.\n",
    "print(r.reshape(2,3))\n",
    "print(r)"
   ]
  },
  {
   "cell_type": "code",
   "execution_count": 121,
   "id": "b046d75d",
   "metadata": {},
   "outputs": [
    {
     "name": "stdout",
     "output_type": "stream",
     "text": [
      "[[10 20 30]\n",
      " [40 50 60]]\n"
     ]
    }
   ],
   "source": [
    "#Resize changes the original data.\n",
    "r.resize(2,3)\n",
    "print(r)"
   ]
  },
  {
   "cell_type": "code",
   "execution_count": 116,
   "id": "206f2c6a",
   "metadata": {},
   "outputs": [],
   "source": [
    "r.resize(2,3)"
   ]
  },
  {
   "cell_type": "code",
   "execution_count": 128,
   "id": "5e4512b2",
   "metadata": {},
   "outputs": [
    {
     "name": "stdout",
     "output_type": "stream",
     "text": [
      "[[-1  2  3  4]\n",
      " [10  9  8  7]]\n",
      "\n",
      "\n",
      "[array([[-1,  2,  3,  4]]), array([[10,  9,  8,  7]])]\n",
      "\n",
      "\n",
      "[array([[-1],\n",
      "       [10]]), array([[2],\n",
      "       [9]]), array([[3],\n",
      "       [8]]), array([[4],\n",
      "       [7]])]\n"
     ]
    }
   ],
   "source": [
    "print(two_darray)\n",
    "print('\\n')\n",
    "print(np.split(two_darray,2))\n",
    "print('\\n')\n",
    "print(np.hsplit(two_darray,4))"
   ]
  },
  {
   "cell_type": "code",
   "execution_count": 132,
   "id": "a72ae99c",
   "metadata": {},
   "outputs": [
    {
     "name": "stdout",
     "output_type": "stream",
     "text": [
      "[[10 20 30]\n",
      " [40 50 60]]\n",
      "\n",
      "\n",
      "[[[10 20 30]\n",
      "  [40 50 60]]\n",
      "\n",
      " [[10 20 30]\n",
      "  [40 50 60]]]\n",
      "\n",
      "\n",
      "[[10 20 30 10 20 30]\n",
      " [40 50 60 40 50 60]]\n"
     ]
    }
   ],
   "source": [
    "print(r)\n",
    "print('\\n')\n",
    "print(np.stack([r,r]))\n",
    "print('\\n')\n",
    "print(np.hstack([r,r]))"
   ]
  },
  {
   "cell_type": "code",
   "execution_count": 135,
   "id": "ce2ef701",
   "metadata": {},
   "outputs": [
    {
     "name": "stdout",
     "output_type": "stream",
     "text": [
      "-8.000000000000002\n",
      "[[-0.75   0.25   0.5  ]\n",
      " [ 0.125  0.625 -0.25 ]\n",
      " [ 0.5   -0.5    0.   ]]\n",
      "7\n",
      "[[1 1 3]\n",
      " [2 2 2]\n",
      " [3 1 4]]\n",
      "[ 2.5   0.75 -1.  ]\n",
      "[ 2.5   0.75 -1.  ]\n",
      "(array([ 6.6702759 , -0.94262618,  1.27235028]), array([[ 0.52476849,  0.87030724,  0.04635902],\n",
      "       [ 0.28417566, -0.13477687, -0.82920816],\n",
      "       [ 0.80241026, -0.4737093 ,  0.55701407]]))\n",
      "[ 6.6702759  -0.94262618  1.27235028]\n"
     ]
    }
   ],
   "source": [
    "#Matrix Operations:\n",
    "A = np.array([[1,2,3],[1,2,1],[3,2,4]])\n",
    "B = np.array([1,3,5])\n",
    "print(np.linalg.det(A))\n",
    "print(np.linalg.inv(A))\n",
    "print(np.trace(A))\n",
    "print(np.transpose(A))\n",
    "print(np.dot(np.linalg.inv(A),B))\n",
    "print(np.linalg.solve(A,B))\n",
    "print(np.linalg.eig(A))\n",
    "print(np.linalg.eigvals(A))"
   ]
  },
  {
   "cell_type": "markdown",
   "id": "e6790e89",
   "metadata": {},
   "source": [
    "**ScipY**"
   ]
  },
  {
   "cell_type": "code",
   "execution_count": 136,
   "id": "494e62c4",
   "metadata": {},
   "outputs": [],
   "source": [
    "from scipy.integrate import quad, dblquad\n",
    "from scipy.optimize import minimize, root"
   ]
  },
  {
   "cell_type": "code",
   "execution_count": 146,
   "id": "284ab06b",
   "metadata": {},
   "outputs": [],
   "source": [
    "def fun_1(x,a):\n",
    "    return x**2 + a"
   ]
  },
  {
   "cell_type": "code",
   "execution_count": 147,
   "id": "4c0e4d0d",
   "metadata": {},
   "outputs": [
    {
     "data": {
      "text/plain": [
       "(2.3333333333333335, 2.590520390792032e-14)"
      ]
     },
     "execution_count": 147,
     "metadata": {},
     "output_type": "execute_result"
    }
   ],
   "source": [
    "quad(fun_1,0, 1, args = 2)"
   ]
  },
  {
   "cell_type": "code",
   "execution_count": 153,
   "id": "b19bd116",
   "metadata": {},
   "outputs": [],
   "source": [
    "def fun_2(x,y,a,b):\n",
    "    return x**a + y**b"
   ]
  },
  {
   "cell_type": "code",
   "execution_count": 154,
   "id": "886bfbc8",
   "metadata": {},
   "outputs": [
    {
     "data": {
      "text/plain": [
       "(3.333333333333334, 5.1714082159146356e-14)"
      ]
     },
     "execution_count": 154,
     "metadata": {},
     "output_type": "execute_result"
    }
   ],
   "source": [
    "dblquad(fun_2,0,1,0,2, args = (2,2))"
   ]
  },
  {
   "cell_type": "code",
   "execution_count": 157,
   "id": "07972e0d",
   "metadata": {},
   "outputs": [],
   "source": [
    "def fun_3(x):\n",
    "    return x**2 - 2"
   ]
  },
  {
   "cell_type": "code",
   "execution_count": 158,
   "id": "d44484c4",
   "metadata": {},
   "outputs": [
    {
     "data": {
      "text/plain": [
       "  message: Optimization terminated successfully.\n",
       "  success: True\n",
       "   status: 0\n",
       "      fun: -2.0\n",
       "        x: [-9.516e-09]\n",
       "      nit: 2\n",
       "      jac: [ 0.000e+00]\n",
       " hess_inv: [[ 5.000e-01]]\n",
       "     nfev: 6\n",
       "     njev: 3"
      ]
     },
     "execution_count": 158,
     "metadata": {},
     "output_type": "execute_result"
    }
   ],
   "source": [
    "minimize(fun_3,1)"
   ]
  },
  {
   "cell_type": "code",
   "execution_count": 162,
   "id": "31fe894b",
   "metadata": {},
   "outputs": [
    {
     "data": {
      "text/plain": [
       " message: The solution converged.\n",
       " success: True\n",
       "  status: 1\n",
       "     fun: [ 5.773e-15]\n",
       "       x: [ 1.414e+00]\n",
       "    nfev: 9\n",
       "    fjac: [[-1.000e+00]]\n",
       "       r: [-2.828e+00]\n",
       "     qtf: [-3.684e-09]"
      ]
     },
     "execution_count": 162,
     "metadata": {},
     "output_type": "execute_result"
    }
   ],
   "source": [
    "root(fun_3,3)"
   ]
  },
  {
   "cell_type": "code",
   "execution_count": 163,
   "id": "8322df82",
   "metadata": {},
   "outputs": [],
   "source": [
    "from scipy.stats import norm"
   ]
  },
  {
   "cell_type": "code",
   "execution_count": 166,
   "id": "f8381040",
   "metadata": {},
   "outputs": [
    {
     "data": {
      "text/plain": [
       "array([ 0.6488467 ,  1.06854636, -1.04864906, -0.44591314,  1.5994089 ,\n",
       "        0.15722297, -1.27508919,  0.01121934, -1.06859509,  1.23968906])"
      ]
     },
     "execution_count": 166,
     "metadata": {},
     "output_type": "execute_result"
    }
   ],
   "source": [
    "norm.rvs(size = 10, loc = 0, scale = 1)"
   ]
  },
  {
   "cell_type": "code",
   "execution_count": 175,
   "id": "25af9488",
   "metadata": {},
   "outputs": [
    {
     "data": {
      "text/plain": [
       "0.39892233378608216"
      ]
     },
     "execution_count": 175,
     "metadata": {},
     "output_type": "execute_result"
    }
   ],
   "source": [
    "norm.pdf(0.01,loc = 0, scale = 1)"
   ]
  },
  {
   "cell_type": "code",
   "execution_count": 169,
   "id": "1981b29b",
   "metadata": {},
   "outputs": [
    {
     "data": {
      "text/plain": [
       "1.0"
      ]
     },
     "execution_count": 169,
     "metadata": {},
     "output_type": "execute_result"
    }
   ],
   "source": [
    "norm.cdf(10,loc = 0, scale = 1)"
   ]
  },
  {
   "cell_type": "markdown",
   "id": "abe29b7a",
   "metadata": {},
   "source": [
    "**Pandas**"
   ]
  },
  {
   "cell_type": "code",
   "execution_count": 176,
   "id": "8bac8aec",
   "metadata": {},
   "outputs": [],
   "source": [
    "import pandas as pd"
   ]
  },
  {
   "cell_type": "code",
   "execution_count": 177,
   "id": "4a03f37e",
   "metadata": {},
   "outputs": [
    {
     "name": "stdout",
     "output_type": "stream",
     "text": [
      "0    a\n",
      "1    b\n",
      "2    c\n",
      "3    d\n",
      "4    e\n",
      "dtype: object\n"
     ]
    }
   ],
   "source": [
    "#1.Series from a list\n",
    "first_series = pd.Series(data = list('abcde'))\n",
    "print(first_series)"
   ]
  },
  {
   "cell_type": "code",
   "execution_count": 178,
   "id": "e9387786",
   "metadata": {},
   "outputs": [
    {
     "name": "stdout",
     "output_type": "stream",
     "text": [
      "f    a\n",
      "g    b\n",
      "h    c\n",
      "i    d\n",
      "j    e\n",
      "dtype: object\n"
     ]
    }
   ],
   "source": [
    "second_series = pd.Series(data = list('abcde'), index = list('fghij'))\n",
    "print(second_series)"
   ]
  },
  {
   "cell_type": "code",
   "execution_count": 181,
   "id": "f55c0c42",
   "metadata": {},
   "outputs": [
    {
     "name": "stdout",
     "output_type": "stream",
     "text": [
      "['India' 'USA' 'UK']\n",
      "\n",
      "\n",
      "0    India\n",
      "1      USA\n",
      "2       UK\n",
      "dtype: object\n"
     ]
    }
   ],
   "source": [
    "#2. Series from a array.\n",
    "countries = np.array(['India', 'USA', 'UK'])\n",
    "third_series = pd.Series(data = countries)\n",
    "print(countries)\n",
    "print('\\n')\n",
    "print(third_series)"
   ]
  },
  {
   "cell_type": "code",
   "execution_count": 183,
   "id": "a3506564",
   "metadata": {},
   "outputs": [
    {
     "name": "stdout",
     "output_type": "stream",
     "text": [
      "{'India': 1, 'Australia': 2, 'England': 3, 'Sri-Lanka': 4}\n",
      "\n",
      "\n",
      "India        1\n",
      "Australia    2\n",
      "England      3\n",
      "Sri-Lanka    4\n",
      "dtype: int64\n"
     ]
    }
   ],
   "source": [
    "#3. Series from a dictionary.\n",
    "team_ranking = {'India': 1, 'Australia': 2, 'England': 3, 'Sri-Lanka': 4}\n",
    "fourth_series = pd.Series(data = team_ranking)\n",
    "print(team_ranking)\n",
    "print('\\n')\n",
    "print(fourth_series)"
   ]
  },
  {
   "cell_type": "code",
   "execution_count": 187,
   "id": "6d2736ce",
   "metadata": {},
   "outputs": [
    {
     "name": "stdout",
     "output_type": "stream",
     "text": [
      "India     {2023: 800, 2024: 1000}\n",
      "USA      {2023: 1001, 2024: 1100}\n",
      "dtype: object\n"
     ]
    }
   ],
   "source": [
    "gdp_countries = {'India': {2023:800, 2024: 1000}, 'USA': {2023: 1001, 2024: 1100}}\n",
    "fifth_series = pd.Series(data = gdp_countries)\n",
    "print(fifth_series)"
   ]
  },
  {
   "cell_type": "code",
   "execution_count": 186,
   "id": "35a36742",
   "metadata": {},
   "outputs": [
    {
     "data": {
      "text/html": [
       "<div>\n",
       "<style scoped>\n",
       "    .dataframe tbody tr th:only-of-type {\n",
       "        vertical-align: middle;\n",
       "    }\n",
       "\n",
       "    .dataframe tbody tr th {\n",
       "        vertical-align: top;\n",
       "    }\n",
       "\n",
       "    .dataframe thead th {\n",
       "        text-align: right;\n",
       "    }\n",
       "</style>\n",
       "<table border=\"1\" class=\"dataframe\">\n",
       "  <thead>\n",
       "    <tr style=\"text-align: right;\">\n",
       "      <th></th>\n",
       "      <th>India</th>\n",
       "      <th>USA</th>\n",
       "    </tr>\n",
       "  </thead>\n",
       "  <tbody>\n",
       "    <tr>\n",
       "      <th>2023</th>\n",
       "      <td>800</td>\n",
       "      <td>1001</td>\n",
       "    </tr>\n",
       "    <tr>\n",
       "      <th>2024</th>\n",
       "      <td>1000</td>\n",
       "      <td>1100</td>\n",
       "    </tr>\n",
       "  </tbody>\n",
       "</table>\n",
       "</div>"
      ],
      "text/plain": [
       "      India   USA\n",
       "2023    800  1001\n",
       "2024   1000  1100"
      ]
     },
     "execution_count": 186,
     "metadata": {},
     "output_type": "execute_result"
    }
   ],
   "source": [
    "#fifth_series = pd.DataFrame(data = gdp_countries)\n",
    "#fifth_series"
   ]
  },
  {
   "cell_type": "code",
   "execution_count": 188,
   "id": "84c7487f",
   "metadata": {},
   "outputs": [
    {
     "name": "stdout",
     "output_type": "stream",
     "text": [
      "0    5\n",
      "1    5\n",
      "2    5\n",
      "3    5\n",
      "4    5\n",
      "5    5\n",
      "6    5\n",
      "7    5\n",
      "8    5\n",
      "9    5\n",
      "dtype: int64\n"
     ]
    }
   ],
   "source": [
    "#4. Scalar Series.\n",
    "sixth_series = pd.Series(data = 5, index = range(0,10))\n",
    "print(sixth_series)"
   ]
  },
  {
   "cell_type": "code",
   "execution_count": 196,
   "id": "093fda4b",
   "metadata": {},
   "outputs": [
    {
     "name": "stdout",
     "output_type": "stream",
     "text": [
      "a    10\n",
      "b    11\n",
      "c    12\n",
      "d    13\n",
      "e    14\n",
      "f    15\n",
      "dtype: int64\n"
     ]
    }
   ],
   "source": [
    "#Operations on series.\n",
    "a = pd.Series([10,11,12,13,14,15], index = list('abcdef'))\n",
    "print(a)"
   ]
  },
  {
   "cell_type": "code",
   "execution_count": 203,
   "id": "551037ad",
   "metadata": {},
   "outputs": [
    {
     "name": "stdout",
     "output_type": "stream",
     "text": [
      "10\n",
      "11\n",
      "\n",
      "\n",
      "a    10\n",
      "b    11\n",
      "c    12\n",
      "dtype: int64\n",
      "a    10\n",
      "c    12\n",
      "dtype: int64\n",
      "\n",
      "\n",
      "15\n",
      "f    15\n",
      "e    14\n",
      "d    13\n",
      "c    12\n",
      "b    11\n",
      "a    10\n",
      "dtype: int64\n",
      "f    15\n",
      "d    13\n",
      "b    11\n",
      "dtype: int64\n",
      "\n",
      "\n",
      "10\n",
      "13\n",
      "10\n",
      "15\n"
     ]
    }
   ],
   "source": [
    "#Same as in list.\n",
    "print(a[0])\n",
    "print(a[1])\n",
    "print('\\n')\n",
    "print(a[0:3])\n",
    "print(a[0:4:2])\n",
    "print('\\n')\n",
    "print(a[-1])\n",
    "print(a[::-1])\n",
    "print(a[::-2])\n",
    "print('\\n')\n",
    "print(a.iloc[0])\n",
    "print(a.iloc[3])\n",
    "print(a.loc['a'])\n",
    "print(a.loc['f'])"
   ]
  },
  {
   "cell_type": "code",
   "execution_count": 205,
   "id": "35262b11",
   "metadata": {},
   "outputs": [
    {
     "name": "stdout",
     "output_type": "stream",
     "text": [
      "0    1\n",
      "1    2\n",
      "2    3\n",
      "3    4\n",
      "4    5\n",
      "dtype: int64\n",
      "0    10\n",
      "1    11\n",
      "2    12\n",
      "3    13\n",
      "4    14\n",
      "dtype: int64\n",
      "\n",
      "\n",
      "0    11\n",
      "1    13\n",
      "2    15\n",
      "3    17\n",
      "4    19\n",
      "dtype: int64\n",
      "\n",
      "\n",
      "0    9\n",
      "1    9\n",
      "2    9\n",
      "3    9\n",
      "4    9\n",
      "dtype: int64\n",
      "\n",
      "\n",
      "0    10.00\n",
      "1     5.50\n",
      "2     4.00\n",
      "3     3.25\n",
      "4     2.80\n",
      "dtype: float64\n",
      "\n",
      "\n",
      "0    0\n",
      "1    1\n",
      "2    0\n",
      "3    1\n",
      "4    4\n",
      "dtype: int64\n"
     ]
    }
   ],
   "source": [
    "x = pd.Series([1,2,3,4,5])\n",
    "y = pd.Series([10,11,12,13,14])\n",
    "print(x)\n",
    "print(y)\n",
    "print('\\n')\n",
    "print(x + y)\n",
    "print('\\n')\n",
    "print(y - x)\n",
    "print('\\n')\n",
    "print(y / x)\n",
    "print('\\n')\n",
    "print(y % x)"
   ]
  },
  {
   "cell_type": "code",
   "execution_count": 222,
   "id": "8bac5d11",
   "metadata": {},
   "outputs": [
    {
     "name": "stdout",
     "output_type": "stream",
     "text": [
      "0    1\n",
      "1    2\n",
      "2    3\n",
      "6    4\n",
      "7    5\n",
      "dtype: int64\n",
      "0    1\n",
      "1    2\n",
      "2    3\n",
      "3    4\n",
      "4    5\n",
      "dtype: int64\n",
      "0    2.0\n",
      "1    4.0\n",
      "2    6.0\n",
      "3    NaN\n",
      "4    NaN\n",
      "6    NaN\n",
      "7    NaN\n",
      "dtype: float64\n"
     ]
    }
   ],
   "source": [
    "z = pd.Series([1,2,3,4,5], index = [0,1,2,6,7])\n",
    "print(z)\n",
    "print(x)\n",
    "c = x + z\n",
    "print(c)"
   ]
  },
  {
   "cell_type": "code",
   "execution_count": 223,
   "id": "94bdfc74",
   "metadata": {},
   "outputs": [
    {
     "name": "stdout",
     "output_type": "stream",
     "text": [
      "0    2.0\n",
      "1    4.0\n",
      "2    6.0\n",
      "3    0.0\n",
      "4    0.0\n",
      "6    0.0\n",
      "7    0.0\n",
      "dtype: float64\n",
      "0    2.0\n",
      "1    4.0\n",
      "2    6.0\n",
      "3    NaN\n",
      "4    NaN\n",
      "6    NaN\n",
      "7    NaN\n",
      "dtype: float64\n"
     ]
    }
   ],
   "source": [
    "print(c.fillna(0))\n",
    "print(c)"
   ]
  },
  {
   "cell_type": "code",
   "execution_count": 224,
   "id": "fca74238",
   "metadata": {},
   "outputs": [
    {
     "name": "stdout",
     "output_type": "stream",
     "text": [
      "0    2.0\n",
      "1    4.0\n",
      "2    6.0\n",
      "3    0.0\n",
      "4    0.0\n",
      "6    0.0\n",
      "7    0.0\n",
      "dtype: float64\n"
     ]
    }
   ],
   "source": [
    "c.fillna(0, inplace = True)\n",
    "print(c)"
   ]
  },
  {
   "cell_type": "code",
   "execution_count": 225,
   "id": "6834b6bb",
   "metadata": {},
   "outputs": [
    {
     "data": {
      "text/html": [
       "<div>\n",
       "<style scoped>\n",
       "    .dataframe tbody tr th:only-of-type {\n",
       "        vertical-align: middle;\n",
       "    }\n",
       "\n",
       "    .dataframe tbody tr th {\n",
       "        vertical-align: top;\n",
       "    }\n",
       "\n",
       "    .dataframe thead th {\n",
       "        text-align: right;\n",
       "    }\n",
       "</style>\n",
       "<table border=\"1\" class=\"dataframe\">\n",
       "  <thead>\n",
       "    <tr style=\"text-align: right;\">\n",
       "      <th></th>\n",
       "      <th>Movie_1</th>\n",
       "      <th>Movie_2</th>\n",
       "    </tr>\n",
       "  </thead>\n",
       "  <tbody>\n",
       "    <tr>\n",
       "      <th>User_1</th>\n",
       "      <td>1</td>\n",
       "      <td>2</td>\n",
       "    </tr>\n",
       "    <tr>\n",
       "      <th>User_2</th>\n",
       "      <td>2</td>\n",
       "      <td>3</td>\n",
       "    </tr>\n",
       "    <tr>\n",
       "      <th>User_3</th>\n",
       "      <td>3</td>\n",
       "      <td>5</td>\n",
       "    </tr>\n",
       "    <tr>\n",
       "      <th>User_4</th>\n",
       "      <td>4</td>\n",
       "      <td>1</td>\n",
       "    </tr>\n",
       "    <tr>\n",
       "      <th>User_5</th>\n",
       "      <td>5</td>\n",
       "      <td>2</td>\n",
       "    </tr>\n",
       "  </tbody>\n",
       "</table>\n",
       "</div>"
      ],
      "text/plain": [
       "        Movie_1  Movie_2\n",
       "User_1        1        2\n",
       "User_2        2        3\n",
       "User_3        3        5\n",
       "User_4        4        1\n",
       "User_5        5        2"
      ]
     },
     "execution_count": 225,
     "metadata": {},
     "output_type": "execute_result"
    }
   ],
   "source": [
    "#Data Frame\n",
    "movie_data = pd.DataFrame(data = {'Movie_1': [1,2,3,4,5], 'Movie_2': [2,3,5,1,2]},\n",
    "                         index = ['User_1','User_2','User_3','User_4','User_5'])\n",
    "movie_data"
   ]
  },
  {
   "cell_type": "code",
   "execution_count": 254,
   "id": "7adb1557",
   "metadata": {},
   "outputs": [
    {
     "data": {
      "text/html": [
       "<div>\n",
       "<style scoped>\n",
       "    .dataframe tbody tr th:only-of-type {\n",
       "        vertical-align: middle;\n",
       "    }\n",
       "\n",
       "    .dataframe tbody tr th {\n",
       "        vertical-align: top;\n",
       "    }\n",
       "\n",
       "    .dataframe thead th {\n",
       "        text-align: right;\n",
       "    }\n",
       "</style>\n",
       "<table border=\"1\" class=\"dataframe\">\n",
       "  <thead>\n",
       "    <tr style=\"text-align: right;\">\n",
       "      <th></th>\n",
       "      <th>HostCity</th>\n",
       "      <th>Year</th>\n",
       "      <th>No_of_Participants</th>\n",
       "    </tr>\n",
       "  </thead>\n",
       "  <tbody>\n",
       "    <tr>\n",
       "      <th>0</th>\n",
       "      <td>London</td>\n",
       "      <td>2012</td>\n",
       "      <td>205</td>\n",
       "    </tr>\n",
       "    <tr>\n",
       "      <th>1</th>\n",
       "      <td>Beijing</td>\n",
       "      <td>2008</td>\n",
       "      <td>204</td>\n",
       "    </tr>\n",
       "    <tr>\n",
       "      <th>2</th>\n",
       "      <td>Athens</td>\n",
       "      <td>2004</td>\n",
       "      <td>201</td>\n",
       "    </tr>\n",
       "    <tr>\n",
       "      <th>3</th>\n",
       "      <td>Sydney</td>\n",
       "      <td>2000</td>\n",
       "      <td>200</td>\n",
       "    </tr>\n",
       "    <tr>\n",
       "      <th>4</th>\n",
       "      <td>Atlanta</td>\n",
       "      <td>1996</td>\n",
       "      <td>197</td>\n",
       "    </tr>\n",
       "  </tbody>\n",
       "</table>\n",
       "</div>"
      ],
      "text/plain": [
       "  HostCity  Year  No_of_Participants\n",
       "0   London  2012                 205\n",
       "1  Beijing  2008                 204\n",
       "2   Athens  2004                 201\n",
       "3   Sydney  2000                 200\n",
       "4  Atlanta  1996                 197"
      ]
     },
     "execution_count": 254,
     "metadata": {},
     "output_type": "execute_result"
    }
   ],
   "source": [
    "olympic_data = pd.DataFrame({'HostCity':np.array(['London','Beijing','Athens','Sydney','Atlanta']),\n",
    "                       'Year':[2012,2008,2004,2000,1996],\n",
    "                       'No_of_Participants':np.array([205,204,201,200,197])})\n",
    "olympic_data"
   ]
  },
  {
   "cell_type": "code",
   "execution_count": 227,
   "id": "0373620c",
   "metadata": {},
   "outputs": [
    {
     "data": {
      "text/html": [
       "<div>\n",
       "<style scoped>\n",
       "    .dataframe tbody tr th:only-of-type {\n",
       "        vertical-align: middle;\n",
       "    }\n",
       "\n",
       "    .dataframe tbody tr th {\n",
       "        vertical-align: top;\n",
       "    }\n",
       "\n",
       "    .dataframe thead th {\n",
       "        text-align: right;\n",
       "    }\n",
       "</style>\n",
       "<table border=\"1\" class=\"dataframe\">\n",
       "  <thead>\n",
       "    <tr style=\"text-align: right;\">\n",
       "      <th></th>\n",
       "      <th>prod_id</th>\n",
       "      <th>year</th>\n",
       "      <th>sales</th>\n",
       "    </tr>\n",
       "  </thead>\n",
       "  <tbody>\n",
       "    <tr>\n",
       "      <th>0</th>\n",
       "      <td>101</td>\n",
       "      <td>2017</td>\n",
       "      <td>192</td>\n",
       "    </tr>\n",
       "    <tr>\n",
       "      <th>1</th>\n",
       "      <td>102</td>\n",
       "      <td>2018</td>\n",
       "      <td>321</td>\n",
       "    </tr>\n",
       "    <tr>\n",
       "      <th>2</th>\n",
       "      <td>103</td>\n",
       "      <td>2017</td>\n",
       "      <td>456</td>\n",
       "    </tr>\n",
       "    <tr>\n",
       "      <th>3</th>\n",
       "      <td>104</td>\n",
       "      <td>2018</td>\n",
       "      <td>383</td>\n",
       "    </tr>\n",
       "    <tr>\n",
       "      <th>4</th>\n",
       "      <td>105</td>\n",
       "      <td>2017</td>\n",
       "      <td>100</td>\n",
       "    </tr>\n",
       "    <tr>\n",
       "      <th>5</th>\n",
       "      <td>106</td>\n",
       "      <td>2018</td>\n",
       "      <td>898</td>\n",
       "    </tr>\n",
       "    <tr>\n",
       "      <th>6</th>\n",
       "      <td>107</td>\n",
       "      <td>2017</td>\n",
       "      <td>999</td>\n",
       "    </tr>\n",
       "    <tr>\n",
       "      <th>7</th>\n",
       "      <td>108</td>\n",
       "      <td>2018</td>\n",
       "      <td>125</td>\n",
       "    </tr>\n",
       "    <tr>\n",
       "      <th>8</th>\n",
       "      <td>109</td>\n",
       "      <td>2017</td>\n",
       "      <td>665</td>\n",
       "    </tr>\n",
       "    <tr>\n",
       "      <th>9</th>\n",
       "      <td>110</td>\n",
       "      <td>2018</td>\n",
       "      <td>330</td>\n",
       "    </tr>\n",
       "  </tbody>\n",
       "</table>\n",
       "</div>"
      ],
      "text/plain": [
       "   prod_id  year  sales\n",
       "0      101  2017    192\n",
       "1      102  2018    321\n",
       "2      103  2017    456\n",
       "3      104  2018    383\n",
       "4      105  2017    100\n",
       "5      106  2018    898\n",
       "6      107  2017    999\n",
       "7      108  2018    125\n",
       "8      109  2017    665\n",
       "9      110  2018    330"
      ]
     },
     "execution_count": 227,
     "metadata": {},
     "output_type": "execute_result"
    }
   ],
   "source": [
    "sales_data = pd.DataFrame({'prod_id':[101,102,103,104,105,106,107,108,109,110],\n",
    "                     'year':[2017,2018,2017,2018,2017,2018,2017,2018,2017,2018],\n",
    "                     'sales':[192,321,456,383,100,898,999,125,665,330]})\n",
    "sales_data"
   ]
  },
  {
   "cell_type": "code",
   "execution_count": 235,
   "id": "3dae8aaf",
   "metadata": {},
   "outputs": [
    {
     "data": {
      "text/html": [
       "<div>\n",
       "<style scoped>\n",
       "    .dataframe tbody tr th:only-of-type {\n",
       "        vertical-align: middle;\n",
       "    }\n",
       "\n",
       "    .dataframe tbody tr th {\n",
       "        vertical-align: top;\n",
       "    }\n",
       "\n",
       "    .dataframe thead th {\n",
       "        text-align: right;\n",
       "    }\n",
       "</style>\n",
       "<table border=\"1\" class=\"dataframe\">\n",
       "  <thead>\n",
       "    <tr style=\"text-align: right;\">\n",
       "      <th></th>\n",
       "      <th>prod_id</th>\n",
       "      <th>year</th>\n",
       "      <th>sales</th>\n",
       "    </tr>\n",
       "  </thead>\n",
       "  <tbody>\n",
       "    <tr>\n",
       "      <th>0</th>\n",
       "      <td>101</td>\n",
       "      <td>2017</td>\n",
       "      <td>192</td>\n",
       "    </tr>\n",
       "    <tr>\n",
       "      <th>1</th>\n",
       "      <td>102</td>\n",
       "      <td>2018</td>\n",
       "      <td>321</td>\n",
       "    </tr>\n",
       "    <tr>\n",
       "      <th>2</th>\n",
       "      <td>103</td>\n",
       "      <td>2017</td>\n",
       "      <td>456</td>\n",
       "    </tr>\n",
       "    <tr>\n",
       "      <th>3</th>\n",
       "      <td>104</td>\n",
       "      <td>2018</td>\n",
       "      <td>383</td>\n",
       "    </tr>\n",
       "    <tr>\n",
       "      <th>4</th>\n",
       "      <td>105</td>\n",
       "      <td>2017</td>\n",
       "      <td>100</td>\n",
       "    </tr>\n",
       "  </tbody>\n",
       "</table>\n",
       "</div>"
      ],
      "text/plain": [
       "   prod_id  year  sales\n",
       "0      101  2017    192\n",
       "1      102  2018    321\n",
       "2      103  2017    456\n",
       "3      104  2018    383\n",
       "4      105  2017    100"
      ]
     },
     "execution_count": 235,
     "metadata": {},
     "output_type": "execute_result"
    }
   ],
   "source": [
    "#Operations on dataframe.\n",
    "#Top 5 rows:\n",
    "sales_data.head()"
   ]
  },
  {
   "cell_type": "code",
   "execution_count": 236,
   "id": "e12a0110",
   "metadata": {},
   "outputs": [
    {
     "data": {
      "text/html": [
       "<div>\n",
       "<style scoped>\n",
       "    .dataframe tbody tr th:only-of-type {\n",
       "        vertical-align: middle;\n",
       "    }\n",
       "\n",
       "    .dataframe tbody tr th {\n",
       "        vertical-align: top;\n",
       "    }\n",
       "\n",
       "    .dataframe thead th {\n",
       "        text-align: right;\n",
       "    }\n",
       "</style>\n",
       "<table border=\"1\" class=\"dataframe\">\n",
       "  <thead>\n",
       "    <tr style=\"text-align: right;\">\n",
       "      <th></th>\n",
       "      <th>prod_id</th>\n",
       "      <th>year</th>\n",
       "      <th>sales</th>\n",
       "    </tr>\n",
       "  </thead>\n",
       "  <tbody>\n",
       "    <tr>\n",
       "      <th>5</th>\n",
       "      <td>106</td>\n",
       "      <td>2018</td>\n",
       "      <td>898</td>\n",
       "    </tr>\n",
       "    <tr>\n",
       "      <th>6</th>\n",
       "      <td>107</td>\n",
       "      <td>2017</td>\n",
       "      <td>999</td>\n",
       "    </tr>\n",
       "    <tr>\n",
       "      <th>7</th>\n",
       "      <td>108</td>\n",
       "      <td>2018</td>\n",
       "      <td>125</td>\n",
       "    </tr>\n",
       "    <tr>\n",
       "      <th>8</th>\n",
       "      <td>109</td>\n",
       "      <td>2017</td>\n",
       "      <td>665</td>\n",
       "    </tr>\n",
       "    <tr>\n",
       "      <th>9</th>\n",
       "      <td>110</td>\n",
       "      <td>2018</td>\n",
       "      <td>330</td>\n",
       "    </tr>\n",
       "  </tbody>\n",
       "</table>\n",
       "</div>"
      ],
      "text/plain": [
       "   prod_id  year  sales\n",
       "5      106  2018    898\n",
       "6      107  2017    999\n",
       "7      108  2018    125\n",
       "8      109  2017    665\n",
       "9      110  2018    330"
      ]
     },
     "execution_count": 236,
     "metadata": {},
     "output_type": "execute_result"
    }
   ],
   "source": [
    "#Bottom 5 rows\n",
    "sales_data.tail()"
   ]
  },
  {
   "cell_type": "code",
   "execution_count": 238,
   "id": "6928fa41",
   "metadata": {},
   "outputs": [
    {
     "name": "stdout",
     "output_type": "stream",
     "text": [
      "<class 'pandas.core.frame.DataFrame'>\n",
      "RangeIndex: 10 entries, 0 to 9\n",
      "Data columns (total 3 columns):\n",
      " #   Column   Non-Null Count  Dtype\n",
      "---  ------   --------------  -----\n",
      " 0   prod_id  10 non-null     int64\n",
      " 1   year     10 non-null     int64\n",
      " 2   sales    10 non-null     int64\n",
      "dtypes: int64(3)\n",
      "memory usage: 372.0 bytes\n"
     ]
    }
   ],
   "source": [
    "#Data frame information\n",
    "sales_data.info()"
   ]
  },
  {
   "cell_type": "code",
   "execution_count": 239,
   "id": "f6f2a4bc",
   "metadata": {},
   "outputs": [
    {
     "data": {
      "text/html": [
       "<div>\n",
       "<style scoped>\n",
       "    .dataframe tbody tr th:only-of-type {\n",
       "        vertical-align: middle;\n",
       "    }\n",
       "\n",
       "    .dataframe tbody tr th {\n",
       "        vertical-align: top;\n",
       "    }\n",
       "\n",
       "    .dataframe thead th {\n",
       "        text-align: right;\n",
       "    }\n",
       "</style>\n",
       "<table border=\"1\" class=\"dataframe\">\n",
       "  <thead>\n",
       "    <tr style=\"text-align: right;\">\n",
       "      <th></th>\n",
       "      <th>prod_id</th>\n",
       "      <th>year</th>\n",
       "      <th>sales</th>\n",
       "    </tr>\n",
       "  </thead>\n",
       "  <tbody>\n",
       "    <tr>\n",
       "      <th>count</th>\n",
       "      <td>10.00000</td>\n",
       "      <td>10.000000</td>\n",
       "      <td>10.000000</td>\n",
       "    </tr>\n",
       "    <tr>\n",
       "      <th>mean</th>\n",
       "      <td>105.50000</td>\n",
       "      <td>2017.500000</td>\n",
       "      <td>446.900000</td>\n",
       "    </tr>\n",
       "    <tr>\n",
       "      <th>std</th>\n",
       "      <td>3.02765</td>\n",
       "      <td>0.527046</td>\n",
       "      <td>312.425796</td>\n",
       "    </tr>\n",
       "    <tr>\n",
       "      <th>min</th>\n",
       "      <td>101.00000</td>\n",
       "      <td>2017.000000</td>\n",
       "      <td>100.000000</td>\n",
       "    </tr>\n",
       "    <tr>\n",
       "      <th>25%</th>\n",
       "      <td>103.25000</td>\n",
       "      <td>2017.000000</td>\n",
       "      <td>224.250000</td>\n",
       "    </tr>\n",
       "    <tr>\n",
       "      <th>50%</th>\n",
       "      <td>105.50000</td>\n",
       "      <td>2017.500000</td>\n",
       "      <td>356.500000</td>\n",
       "    </tr>\n",
       "    <tr>\n",
       "      <th>75%</th>\n",
       "      <td>107.75000</td>\n",
       "      <td>2018.000000</td>\n",
       "      <td>612.750000</td>\n",
       "    </tr>\n",
       "    <tr>\n",
       "      <th>max</th>\n",
       "      <td>110.00000</td>\n",
       "      <td>2018.000000</td>\n",
       "      <td>999.000000</td>\n",
       "    </tr>\n",
       "  </tbody>\n",
       "</table>\n",
       "</div>"
      ],
      "text/plain": [
       "         prod_id         year       sales\n",
       "count   10.00000    10.000000   10.000000\n",
       "mean   105.50000  2017.500000  446.900000\n",
       "std      3.02765     0.527046  312.425796\n",
       "min    101.00000  2017.000000  100.000000\n",
       "25%    103.25000  2017.000000  224.250000\n",
       "50%    105.50000  2017.500000  356.500000\n",
       "75%    107.75000  2018.000000  612.750000\n",
       "max    110.00000  2018.000000  999.000000"
      ]
     },
     "execution_count": 239,
     "metadata": {},
     "output_type": "execute_result"
    }
   ],
   "source": [
    "#Data Summary\n",
    "sales_data.describe()"
   ]
  },
  {
   "cell_type": "code",
   "execution_count": 230,
   "id": "fca2a14a",
   "metadata": {},
   "outputs": [
    {
     "name": "stdout",
     "output_type": "stream",
     "text": [
      "<class 'pandas.core.series.Series'>\n"
     ]
    },
    {
     "data": {
      "text/plain": [
       "0     London\n",
       "1    Beijing\n",
       "2     Athens\n",
       "3     Sydney\n",
       "4    Atlanta\n",
       "Name: HostCity, dtype: object"
      ]
     },
     "execution_count": 230,
     "metadata": {},
     "output_type": "execute_result"
    }
   ],
   "source": [
    "#Slicing a column.\n",
    "print(type(olympic_data.HostCity))\n",
    "olympic_data.HostCity"
   ]
  },
  {
   "cell_type": "code",
   "execution_count": 231,
   "id": "358f690c",
   "metadata": {},
   "outputs": [
    {
     "name": "stdout",
     "output_type": "stream",
     "text": [
      "<class 'pandas.core.series.Series'>\n"
     ]
    },
    {
     "data": {
      "text/plain": [
       "0     London\n",
       "1    Beijing\n",
       "2     Athens\n",
       "3     Sydney\n",
       "4    Atlanta\n",
       "Name: HostCity, dtype: object"
      ]
     },
     "execution_count": 231,
     "metadata": {},
     "output_type": "execute_result"
    }
   ],
   "source": [
    "print(type(olympic_data['HostCity']))\n",
    "olympic_data['HostCity']"
   ]
  },
  {
   "cell_type": "code",
   "execution_count": 232,
   "id": "13cdac6b",
   "metadata": {},
   "outputs": [
    {
     "name": "stdout",
     "output_type": "stream",
     "text": [
      "<class 'pandas.core.frame.DataFrame'>\n"
     ]
    },
    {
     "data": {
      "text/html": [
       "<div>\n",
       "<style scoped>\n",
       "    .dataframe tbody tr th:only-of-type {\n",
       "        vertical-align: middle;\n",
       "    }\n",
       "\n",
       "    .dataframe tbody tr th {\n",
       "        vertical-align: top;\n",
       "    }\n",
       "\n",
       "    .dataframe thead th {\n",
       "        text-align: right;\n",
       "    }\n",
       "</style>\n",
       "<table border=\"1\" class=\"dataframe\">\n",
       "  <thead>\n",
       "    <tr style=\"text-align: right;\">\n",
       "      <th></th>\n",
       "      <th>HostCity</th>\n",
       "    </tr>\n",
       "  </thead>\n",
       "  <tbody>\n",
       "    <tr>\n",
       "      <th>0</th>\n",
       "      <td>London</td>\n",
       "    </tr>\n",
       "    <tr>\n",
       "      <th>1</th>\n",
       "      <td>Beijing</td>\n",
       "    </tr>\n",
       "    <tr>\n",
       "      <th>2</th>\n",
       "      <td>Athens</td>\n",
       "    </tr>\n",
       "    <tr>\n",
       "      <th>3</th>\n",
       "      <td>Sydney</td>\n",
       "    </tr>\n",
       "    <tr>\n",
       "      <th>4</th>\n",
       "      <td>Atlanta</td>\n",
       "    </tr>\n",
       "  </tbody>\n",
       "</table>\n",
       "</div>"
      ],
      "text/plain": [
       "  HostCity\n",
       "0   London\n",
       "1  Beijing\n",
       "2   Athens\n",
       "3   Sydney\n",
       "4  Atlanta"
      ]
     },
     "execution_count": 232,
     "metadata": {},
     "output_type": "execute_result"
    }
   ],
   "source": [
    "print(type(olympic_data[['HostCity']]))\n",
    "olympic_data[['HostCity']]"
   ]
  },
  {
   "cell_type": "code",
   "execution_count": 241,
   "id": "8292e636",
   "metadata": {},
   "outputs": [
    {
     "data": {
      "text/html": [
       "<div>\n",
       "<style scoped>\n",
       "    .dataframe tbody tr th:only-of-type {\n",
       "        vertical-align: middle;\n",
       "    }\n",
       "\n",
       "    .dataframe tbody tr th {\n",
       "        vertical-align: top;\n",
       "    }\n",
       "\n",
       "    .dataframe thead th {\n",
       "        text-align: right;\n",
       "    }\n",
       "</style>\n",
       "<table border=\"1\" class=\"dataframe\">\n",
       "  <thead>\n",
       "    <tr style=\"text-align: right;\">\n",
       "      <th></th>\n",
       "      <th>Host_City</th>\n",
       "      <th>Year</th>\n",
       "    </tr>\n",
       "  </thead>\n",
       "  <tbody>\n",
       "    <tr>\n",
       "      <th>0</th>\n",
       "      <td>London</td>\n",
       "      <td>2012</td>\n",
       "    </tr>\n",
       "    <tr>\n",
       "      <th>1</th>\n",
       "      <td>Beijing</td>\n",
       "      <td>2008</td>\n",
       "    </tr>\n",
       "    <tr>\n",
       "      <th>2</th>\n",
       "      <td>Athens</td>\n",
       "      <td>2004</td>\n",
       "    </tr>\n",
       "    <tr>\n",
       "      <th>3</th>\n",
       "      <td>Sydney</td>\n",
       "      <td>2000</td>\n",
       "    </tr>\n",
       "    <tr>\n",
       "      <th>4</th>\n",
       "      <td>Atlanta</td>\n",
       "      <td>1996</td>\n",
       "    </tr>\n",
       "  </tbody>\n",
       "</table>\n",
       "</div>"
      ],
      "text/plain": [
       "  Host_City  Year\n",
       "0    London  2012\n",
       "1   Beijing  2008\n",
       "2    Athens  2004\n",
       "3    Sydney  2000\n",
       "4   Atlanta  1996"
      ]
     },
     "execution_count": 241,
     "metadata": {},
     "output_type": "execute_result"
    }
   ],
   "source": [
    "#Slicing mutiple columns.\n",
    "olympic_data[['Host_City','Year']]"
   ]
  },
  {
   "cell_type": "code",
   "execution_count": 248,
   "id": "4d91596f",
   "metadata": {},
   "outputs": [
    {
     "data": {
      "text/plain": [
       "Host_City          Beijing\n",
       "Year                  2008\n",
       "Participants_No        204\n",
       "Name: 1, dtype: object"
      ]
     },
     "execution_count": 248,
     "metadata": {},
     "output_type": "execute_result"
    }
   ],
   "source": [
    "#First row of a dataframe\n",
    "olympic_data.iloc[1]"
   ]
  },
  {
   "cell_type": "code",
   "execution_count": 249,
   "id": "39c15e68",
   "metadata": {},
   "outputs": [
    {
     "data": {
      "text/plain": [
       "0    2012\n",
       "1    2008\n",
       "2    2004\n",
       "3    2000\n",
       "4    1996\n",
       "Name: Year, dtype: int64"
      ]
     },
     "execution_count": 249,
     "metadata": {},
     "output_type": "execute_result"
    }
   ],
   "source": [
    "#Fetting records of first column.\n",
    "olympic_data.iloc[:,1]"
   ]
  },
  {
   "cell_type": "code",
   "execution_count": 243,
   "id": "511b5c95",
   "metadata": {},
   "outputs": [
    {
     "data": {
      "text/html": [
       "<div>\n",
       "<style scoped>\n",
       "    .dataframe tbody tr th:only-of-type {\n",
       "        vertical-align: middle;\n",
       "    }\n",
       "\n",
       "    .dataframe tbody tr th {\n",
       "        vertical-align: top;\n",
       "    }\n",
       "\n",
       "    .dataframe thead th {\n",
       "        text-align: right;\n",
       "    }\n",
       "</style>\n",
       "<table border=\"1\" class=\"dataframe\">\n",
       "  <thead>\n",
       "    <tr style=\"text-align: right;\">\n",
       "      <th></th>\n",
       "      <th>Host_City</th>\n",
       "      <th>Year</th>\n",
       "      <th>Participants_No</th>\n",
       "    </tr>\n",
       "  </thead>\n",
       "  <tbody>\n",
       "    <tr>\n",
       "      <th>0</th>\n",
       "      <td>London</td>\n",
       "      <td>2012</td>\n",
       "      <td>205</td>\n",
       "    </tr>\n",
       "    <tr>\n",
       "      <th>1</th>\n",
       "      <td>Beijing</td>\n",
       "      <td>2008</td>\n",
       "      <td>204</td>\n",
       "    </tr>\n",
       "  </tbody>\n",
       "</table>\n",
       "</div>"
      ],
      "text/plain": [
       "  Host_City  Year  Participants_No\n",
       "0    London  2012              205\n",
       "1   Beijing  2008              204"
      ]
     },
     "execution_count": 243,
     "metadata": {},
     "output_type": "execute_result"
    }
   ],
   "source": [
    "olympic_data.iloc[0:2]"
   ]
  },
  {
   "cell_type": "code",
   "execution_count": 245,
   "id": "8d34995a",
   "metadata": {},
   "outputs": [
    {
     "data": {
      "text/html": [
       "<div>\n",
       "<style scoped>\n",
       "    .dataframe tbody tr th:only-of-type {\n",
       "        vertical-align: middle;\n",
       "    }\n",
       "\n",
       "    .dataframe tbody tr th {\n",
       "        vertical-align: top;\n",
       "    }\n",
       "\n",
       "    .dataframe thead th {\n",
       "        text-align: right;\n",
       "    }\n",
       "</style>\n",
       "<table border=\"1\" class=\"dataframe\">\n",
       "  <thead>\n",
       "    <tr style=\"text-align: right;\">\n",
       "      <th></th>\n",
       "      <th>Host_City</th>\n",
       "      <th>Year</th>\n",
       "      <th>Participants_No</th>\n",
       "    </tr>\n",
       "  </thead>\n",
       "  <tbody>\n",
       "    <tr>\n",
       "      <th>2</th>\n",
       "      <td>Athens</td>\n",
       "      <td>2004</td>\n",
       "      <td>201</td>\n",
       "    </tr>\n",
       "    <tr>\n",
       "      <th>3</th>\n",
       "      <td>Sydney</td>\n",
       "      <td>2000</td>\n",
       "      <td>200</td>\n",
       "    </tr>\n",
       "  </tbody>\n",
       "</table>\n",
       "</div>"
      ],
      "text/plain": [
       "  Host_City  Year  Participants_No\n",
       "2    Athens  2004              201\n",
       "3    Sydney  2000              200"
      ]
     },
     "execution_count": 245,
     "metadata": {},
     "output_type": "execute_result"
    }
   ],
   "source": [
    "olympic_data.iloc[2:4]"
   ]
  },
  {
   "cell_type": "code",
   "execution_count": 246,
   "id": "1f14706c",
   "metadata": {},
   "outputs": [
    {
     "data": {
      "text/html": [
       "<div>\n",
       "<style scoped>\n",
       "    .dataframe tbody tr th:only-of-type {\n",
       "        vertical-align: middle;\n",
       "    }\n",
       "\n",
       "    .dataframe tbody tr th {\n",
       "        vertical-align: top;\n",
       "    }\n",
       "\n",
       "    .dataframe thead th {\n",
       "        text-align: right;\n",
       "    }\n",
       "</style>\n",
       "<table border=\"1\" class=\"dataframe\">\n",
       "  <thead>\n",
       "    <tr style=\"text-align: right;\">\n",
       "      <th></th>\n",
       "      <th>Host_City</th>\n",
       "      <th>Year</th>\n",
       "    </tr>\n",
       "  </thead>\n",
       "  <tbody>\n",
       "    <tr>\n",
       "      <th>2</th>\n",
       "      <td>Athens</td>\n",
       "      <td>2004</td>\n",
       "    </tr>\n",
       "    <tr>\n",
       "      <th>3</th>\n",
       "      <td>Sydney</td>\n",
       "      <td>2000</td>\n",
       "    </tr>\n",
       "  </tbody>\n",
       "</table>\n",
       "</div>"
      ],
      "text/plain": [
       "  Host_City  Year\n",
       "2    Athens  2004\n",
       "3    Sydney  2000"
      ]
     },
     "execution_count": 246,
     "metadata": {},
     "output_type": "execute_result"
    }
   ],
   "source": [
    "olympic_data.iloc[2:4,0:2]"
   ]
  },
  {
   "cell_type": "code",
   "execution_count": 240,
   "id": "a5c210e6",
   "metadata": {},
   "outputs": [
    {
     "data": {
      "text/html": [
       "<div>\n",
       "<style scoped>\n",
       "    .dataframe tbody tr th:only-of-type {\n",
       "        vertical-align: middle;\n",
       "    }\n",
       "\n",
       "    .dataframe tbody tr th {\n",
       "        vertical-align: top;\n",
       "    }\n",
       "\n",
       "    .dataframe thead th {\n",
       "        text-align: right;\n",
       "    }\n",
       "</style>\n",
       "<table border=\"1\" class=\"dataframe\">\n",
       "  <thead>\n",
       "    <tr style=\"text-align: right;\">\n",
       "      <th></th>\n",
       "      <th>Host_City</th>\n",
       "      <th>Year</th>\n",
       "      <th>Participants_No</th>\n",
       "    </tr>\n",
       "  </thead>\n",
       "  <tbody>\n",
       "    <tr>\n",
       "      <th>0</th>\n",
       "      <td>London</td>\n",
       "      <td>2012</td>\n",
       "      <td>205</td>\n",
       "    </tr>\n",
       "    <tr>\n",
       "      <th>1</th>\n",
       "      <td>Beijing</td>\n",
       "      <td>2008</td>\n",
       "      <td>204</td>\n",
       "    </tr>\n",
       "    <tr>\n",
       "      <th>2</th>\n",
       "      <td>Athens</td>\n",
       "      <td>2004</td>\n",
       "      <td>201</td>\n",
       "    </tr>\n",
       "    <tr>\n",
       "      <th>3</th>\n",
       "      <td>Sydney</td>\n",
       "      <td>2000</td>\n",
       "      <td>200</td>\n",
       "    </tr>\n",
       "    <tr>\n",
       "      <th>4</th>\n",
       "      <td>Atlanta</td>\n",
       "      <td>1996</td>\n",
       "      <td>197</td>\n",
       "    </tr>\n",
       "  </tbody>\n",
       "</table>\n",
       "</div>"
      ],
      "text/plain": [
       "  Host_City  Year  Participants_No\n",
       "0    London  2012              205\n",
       "1   Beijing  2008              204\n",
       "2    Athens  2004              201\n",
       "3    Sydney  2000              200\n",
       "4   Atlanta  1996              197"
      ]
     },
     "execution_count": 240,
     "metadata": {},
     "output_type": "execute_result"
    }
   ],
   "source": [
    "#Change column Header.\n",
    "olympic_data.columns = ['Host_City', 'Year', 'Participants_No']\n",
    "olympic_data"
   ]
  },
  {
   "cell_type": "code",
   "execution_count": 255,
   "id": "b3866c90",
   "metadata": {},
   "outputs": [
    {
     "data": {
      "text/html": [
       "<div>\n",
       "<style scoped>\n",
       "    .dataframe tbody tr th:only-of-type {\n",
       "        vertical-align: middle;\n",
       "    }\n",
       "\n",
       "    .dataframe tbody tr th {\n",
       "        vertical-align: top;\n",
       "    }\n",
       "\n",
       "    .dataframe thead th {\n",
       "        text-align: right;\n",
       "    }\n",
       "</style>\n",
       "<table border=\"1\" class=\"dataframe\">\n",
       "  <thead>\n",
       "    <tr style=\"text-align: right;\">\n",
       "      <th></th>\n",
       "      <th>HostCity</th>\n",
       "      <th>Year</th>\n",
       "      <th>No_of_Participants</th>\n",
       "    </tr>\n",
       "    <tr>\n",
       "      <th>Year</th>\n",
       "      <th></th>\n",
       "      <th></th>\n",
       "      <th></th>\n",
       "    </tr>\n",
       "  </thead>\n",
       "  <tbody>\n",
       "    <tr>\n",
       "      <th>2012</th>\n",
       "      <td>London</td>\n",
       "      <td>2012</td>\n",
       "      <td>205</td>\n",
       "    </tr>\n",
       "    <tr>\n",
       "      <th>2008</th>\n",
       "      <td>Beijing</td>\n",
       "      <td>2008</td>\n",
       "      <td>204</td>\n",
       "    </tr>\n",
       "    <tr>\n",
       "      <th>2004</th>\n",
       "      <td>Athens</td>\n",
       "      <td>2004</td>\n",
       "      <td>201</td>\n",
       "    </tr>\n",
       "    <tr>\n",
       "      <th>2000</th>\n",
       "      <td>Sydney</td>\n",
       "      <td>2000</td>\n",
       "      <td>200</td>\n",
       "    </tr>\n",
       "    <tr>\n",
       "      <th>1996</th>\n",
       "      <td>Atlanta</td>\n",
       "      <td>1996</td>\n",
       "      <td>197</td>\n",
       "    </tr>\n",
       "  </tbody>\n",
       "</table>\n",
       "</div>"
      ],
      "text/plain": [
       "     HostCity  Year  No_of_Participants\n",
       "Year                                   \n",
       "2012   London  2012                 205\n",
       "2008  Beijing  2008                 204\n",
       "2004   Athens  2004                 201\n",
       "2000   Sydney  2000                 200\n",
       "1996  Atlanta  1996                 197"
      ]
     },
     "execution_count": 255,
     "metadata": {},
     "output_type": "execute_result"
    }
   ],
   "source": [
    "#Change the column indexes.\n",
    "olympic_data.index = olympic_data.Year\n",
    "olympic_data"
   ]
  },
  {
   "cell_type": "code",
   "execution_count": 256,
   "id": "a0f882d6",
   "metadata": {},
   "outputs": [
    {
     "data": {
      "text/html": [
       "<div>\n",
       "<style scoped>\n",
       "    .dataframe tbody tr th:only-of-type {\n",
       "        vertical-align: middle;\n",
       "    }\n",
       "\n",
       "    .dataframe tbody tr th {\n",
       "        vertical-align: top;\n",
       "    }\n",
       "\n",
       "    .dataframe thead th {\n",
       "        text-align: right;\n",
       "    }\n",
       "</style>\n",
       "<table border=\"1\" class=\"dataframe\">\n",
       "  <thead>\n",
       "    <tr style=\"text-align: right;\">\n",
       "      <th></th>\n",
       "      <th>HostCity</th>\n",
       "      <th>Year</th>\n",
       "      <th>No_of_Participants</th>\n",
       "    </tr>\n",
       "  </thead>\n",
       "  <tbody>\n",
       "    <tr>\n",
       "      <th>0</th>\n",
       "      <td>London</td>\n",
       "      <td>2012</td>\n",
       "      <td>205</td>\n",
       "    </tr>\n",
       "    <tr>\n",
       "      <th>1</th>\n",
       "      <td>Beijing</td>\n",
       "      <td>2008</td>\n",
       "      <td>204</td>\n",
       "    </tr>\n",
       "    <tr>\n",
       "      <th>2</th>\n",
       "      <td>Athens</td>\n",
       "      <td>2004</td>\n",
       "      <td>201</td>\n",
       "    </tr>\n",
       "    <tr>\n",
       "      <th>3</th>\n",
       "      <td>Sydney</td>\n",
       "      <td>2000</td>\n",
       "      <td>200</td>\n",
       "    </tr>\n",
       "    <tr>\n",
       "      <th>4</th>\n",
       "      <td>Atlanta</td>\n",
       "      <td>1996</td>\n",
       "      <td>197</td>\n",
       "    </tr>\n",
       "  </tbody>\n",
       "</table>\n",
       "</div>"
      ],
      "text/plain": [
       "  HostCity  Year  No_of_Participants\n",
       "0   London  2012                 205\n",
       "1  Beijing  2008                 204\n",
       "2   Athens  2004                 201\n",
       "3   Sydney  2000                 200\n",
       "4  Atlanta  1996                 197"
      ]
     },
     "execution_count": 256,
     "metadata": {},
     "output_type": "execute_result"
    }
   ],
   "source": [
    "#Rest index\n",
    "olympic_data.reset_index(drop = True, inplace = True)\n",
    "olympic_data"
   ]
  },
  {
   "cell_type": "code",
   "execution_count": 258,
   "id": "4750d464",
   "metadata": {},
   "outputs": [],
   "source": [
    "def movie_grade_fun(rating):\n",
    "    if rating == 5:\n",
    "        return 'A'\n",
    "    elif rating == 4:\n",
    "        return 'B'\n",
    "    elif rating == 3:\n",
    "        return 'C'\n",
    "    elif rating == 2:\n",
    "        return 'D'\n",
    "    else:\n",
    "        return 'E'"
   ]
  },
  {
   "cell_type": "code",
   "execution_count": 259,
   "id": "ca2cad53",
   "metadata": {},
   "outputs": [
    {
     "data": {
      "text/html": [
       "<div>\n",
       "<style scoped>\n",
       "    .dataframe tbody tr th:only-of-type {\n",
       "        vertical-align: middle;\n",
       "    }\n",
       "\n",
       "    .dataframe tbody tr th {\n",
       "        vertical-align: top;\n",
       "    }\n",
       "\n",
       "    .dataframe thead th {\n",
       "        text-align: right;\n",
       "    }\n",
       "</style>\n",
       "<table border=\"1\" class=\"dataframe\">\n",
       "  <thead>\n",
       "    <tr style=\"text-align: right;\">\n",
       "      <th></th>\n",
       "      <th>Movie_1</th>\n",
       "      <th>Movie_2</th>\n",
       "    </tr>\n",
       "  </thead>\n",
       "  <tbody>\n",
       "    <tr>\n",
       "      <th>User_1</th>\n",
       "      <td>1</td>\n",
       "      <td>2</td>\n",
       "    </tr>\n",
       "    <tr>\n",
       "      <th>User_2</th>\n",
       "      <td>2</td>\n",
       "      <td>3</td>\n",
       "    </tr>\n",
       "    <tr>\n",
       "      <th>User_3</th>\n",
       "      <td>3</td>\n",
       "      <td>5</td>\n",
       "    </tr>\n",
       "    <tr>\n",
       "      <th>User_4</th>\n",
       "      <td>4</td>\n",
       "      <td>1</td>\n",
       "    </tr>\n",
       "    <tr>\n",
       "      <th>User_5</th>\n",
       "      <td>5</td>\n",
       "      <td>2</td>\n",
       "    </tr>\n",
       "  </tbody>\n",
       "</table>\n",
       "</div>"
      ],
      "text/plain": [
       "        Movie_1  Movie_2\n",
       "User_1        1        2\n",
       "User_2        2        3\n",
       "User_3        3        5\n",
       "User_4        4        1\n",
       "User_5        5        2"
      ]
     },
     "execution_count": 259,
     "metadata": {},
     "output_type": "execute_result"
    }
   ],
   "source": [
    "movie_data"
   ]
  },
  {
   "cell_type": "code",
   "execution_count": 260,
   "id": "814b9cbb",
   "metadata": {},
   "outputs": [
    {
     "data": {
      "text/html": [
       "<div>\n",
       "<style scoped>\n",
       "    .dataframe tbody tr th:only-of-type {\n",
       "        vertical-align: middle;\n",
       "    }\n",
       "\n",
       "    .dataframe tbody tr th {\n",
       "        vertical-align: top;\n",
       "    }\n",
       "\n",
       "    .dataframe thead th {\n",
       "        text-align: right;\n",
       "    }\n",
       "</style>\n",
       "<table border=\"1\" class=\"dataframe\">\n",
       "  <thead>\n",
       "    <tr style=\"text-align: right;\">\n",
       "      <th></th>\n",
       "      <th>Movie_1</th>\n",
       "      <th>Movie_2</th>\n",
       "    </tr>\n",
       "  </thead>\n",
       "  <tbody>\n",
       "    <tr>\n",
       "      <th>User_1</th>\n",
       "      <td>E</td>\n",
       "      <td>D</td>\n",
       "    </tr>\n",
       "    <tr>\n",
       "      <th>User_2</th>\n",
       "      <td>D</td>\n",
       "      <td>C</td>\n",
       "    </tr>\n",
       "    <tr>\n",
       "      <th>User_3</th>\n",
       "      <td>C</td>\n",
       "      <td>A</td>\n",
       "    </tr>\n",
       "    <tr>\n",
       "      <th>User_4</th>\n",
       "      <td>B</td>\n",
       "      <td>E</td>\n",
       "    </tr>\n",
       "    <tr>\n",
       "      <th>User_5</th>\n",
       "      <td>A</td>\n",
       "      <td>D</td>\n",
       "    </tr>\n",
       "  </tbody>\n",
       "</table>\n",
       "</div>"
      ],
      "text/plain": [
       "       Movie_1 Movie_2\n",
       "User_1       E       D\n",
       "User_2       D       C\n",
       "User_3       C       A\n",
       "User_4       B       E\n",
       "User_5       A       D"
      ]
     },
     "execution_count": 260,
     "metadata": {},
     "output_type": "execute_result"
    }
   ],
   "source": [
    "movie_data.applymap(movie_grade_fun)"
   ]
  },
  {
   "cell_type": "code",
   "execution_count": 261,
   "id": "1cb24cb0",
   "metadata": {},
   "outputs": [
    {
     "data": {
      "text/html": [
       "<div>\n",
       "<style scoped>\n",
       "    .dataframe tbody tr th:only-of-type {\n",
       "        vertical-align: middle;\n",
       "    }\n",
       "\n",
       "    .dataframe tbody tr th {\n",
       "        vertical-align: top;\n",
       "    }\n",
       "\n",
       "    .dataframe thead th {\n",
       "        text-align: right;\n",
       "    }\n",
       "</style>\n",
       "<table border=\"1\" class=\"dataframe\">\n",
       "  <thead>\n",
       "    <tr style=\"text-align: right;\">\n",
       "      <th></th>\n",
       "      <th>prod_id</th>\n",
       "      <th>year</th>\n",
       "      <th>sales</th>\n",
       "    </tr>\n",
       "  </thead>\n",
       "  <tbody>\n",
       "    <tr>\n",
       "      <th>0</th>\n",
       "      <td>101</td>\n",
       "      <td>2017</td>\n",
       "      <td>192</td>\n",
       "    </tr>\n",
       "    <tr>\n",
       "      <th>1</th>\n",
       "      <td>102</td>\n",
       "      <td>2018</td>\n",
       "      <td>321</td>\n",
       "    </tr>\n",
       "    <tr>\n",
       "      <th>2</th>\n",
       "      <td>103</td>\n",
       "      <td>2017</td>\n",
       "      <td>456</td>\n",
       "    </tr>\n",
       "    <tr>\n",
       "      <th>3</th>\n",
       "      <td>104</td>\n",
       "      <td>2018</td>\n",
       "      <td>383</td>\n",
       "    </tr>\n",
       "    <tr>\n",
       "      <th>4</th>\n",
       "      <td>105</td>\n",
       "      <td>2017</td>\n",
       "      <td>100</td>\n",
       "    </tr>\n",
       "    <tr>\n",
       "      <th>5</th>\n",
       "      <td>106</td>\n",
       "      <td>2018</td>\n",
       "      <td>898</td>\n",
       "    </tr>\n",
       "    <tr>\n",
       "      <th>6</th>\n",
       "      <td>107</td>\n",
       "      <td>2017</td>\n",
       "      <td>999</td>\n",
       "    </tr>\n",
       "    <tr>\n",
       "      <th>7</th>\n",
       "      <td>108</td>\n",
       "      <td>2018</td>\n",
       "      <td>125</td>\n",
       "    </tr>\n",
       "    <tr>\n",
       "      <th>8</th>\n",
       "      <td>109</td>\n",
       "      <td>2017</td>\n",
       "      <td>665</td>\n",
       "    </tr>\n",
       "    <tr>\n",
       "      <th>9</th>\n",
       "      <td>110</td>\n",
       "      <td>2018</td>\n",
       "      <td>330</td>\n",
       "    </tr>\n",
       "  </tbody>\n",
       "</table>\n",
       "</div>"
      ],
      "text/plain": [
       "   prod_id  year  sales\n",
       "0      101  2017    192\n",
       "1      102  2018    321\n",
       "2      103  2017    456\n",
       "3      104  2018    383\n",
       "4      105  2017    100\n",
       "5      106  2018    898\n",
       "6      107  2017    999\n",
       "7      108  2018    125\n",
       "8      109  2017    665\n",
       "9      110  2018    330"
      ]
     },
     "execution_count": 261,
     "metadata": {},
     "output_type": "execute_result"
    }
   ],
   "source": [
    "sales_data"
   ]
  },
  {
   "cell_type": "code",
   "execution_count": 264,
   "id": "444dfa48",
   "metadata": {},
   "outputs": [
    {
     "name": "stdout",
     "output_type": "stream",
     "text": [
      "4469\n",
      "10\n",
      "100\n",
      "999\n",
      "312.42579563438386\n",
      "446.9\n",
      "356.5\n"
     ]
    }
   ],
   "source": [
    "print(sales_data.sales.sum())\n",
    "print(sales_data.sales.count())\n",
    "print(sales_data.sales.min())\n",
    "print(sales_data.sales.max())\n",
    "print(sales_data.sales.std())\n",
    "print(sales_data.sales.mean())\n",
    "print(sales_data.sales.median())\n",
    "#print(sales_data.sales.mode())"
   ]
  },
  {
   "cell_type": "code",
   "execution_count": 269,
   "id": "548e3459",
   "metadata": {},
   "outputs": [
    {
     "data": {
      "text/plain": [
       "year\n",
       "2017    2412\n",
       "2018    2057\n",
       "Name: sales, dtype: int64"
      ]
     },
     "execution_count": 269,
     "metadata": {},
     "output_type": "execute_result"
    }
   ],
   "source": [
    "sales_data.groupby(['year'])['sales'].sum()"
   ]
  },
  {
   "cell_type": "code",
   "execution_count": 271,
   "id": "9b38a017",
   "metadata": {},
   "outputs": [
    {
     "data": {
      "text/html": [
       "<div>\n",
       "<style scoped>\n",
       "    .dataframe tbody tr th:only-of-type {\n",
       "        vertical-align: middle;\n",
       "    }\n",
       "\n",
       "    .dataframe tbody tr th {\n",
       "        vertical-align: top;\n",
       "    }\n",
       "\n",
       "    .dataframe thead th {\n",
       "        text-align: right;\n",
       "    }\n",
       "</style>\n",
       "<table border=\"1\" class=\"dataframe\">\n",
       "  <thead>\n",
       "    <tr style=\"text-align: right;\">\n",
       "      <th></th>\n",
       "      <th>prod_id</th>\n",
       "      <th>year</th>\n",
       "      <th>sales</th>\n",
       "    </tr>\n",
       "  </thead>\n",
       "  <tbody>\n",
       "    <tr>\n",
       "      <th>4</th>\n",
       "      <td>105</td>\n",
       "      <td>2017</td>\n",
       "      <td>100</td>\n",
       "    </tr>\n",
       "    <tr>\n",
       "      <th>7</th>\n",
       "      <td>108</td>\n",
       "      <td>2018</td>\n",
       "      <td>125</td>\n",
       "    </tr>\n",
       "    <tr>\n",
       "      <th>0</th>\n",
       "      <td>101</td>\n",
       "      <td>2017</td>\n",
       "      <td>192</td>\n",
       "    </tr>\n",
       "    <tr>\n",
       "      <th>1</th>\n",
       "      <td>102</td>\n",
       "      <td>2018</td>\n",
       "      <td>321</td>\n",
       "    </tr>\n",
       "    <tr>\n",
       "      <th>9</th>\n",
       "      <td>110</td>\n",
       "      <td>2018</td>\n",
       "      <td>330</td>\n",
       "    </tr>\n",
       "    <tr>\n",
       "      <th>3</th>\n",
       "      <td>104</td>\n",
       "      <td>2018</td>\n",
       "      <td>383</td>\n",
       "    </tr>\n",
       "    <tr>\n",
       "      <th>2</th>\n",
       "      <td>103</td>\n",
       "      <td>2017</td>\n",
       "      <td>456</td>\n",
       "    </tr>\n",
       "    <tr>\n",
       "      <th>8</th>\n",
       "      <td>109</td>\n",
       "      <td>2017</td>\n",
       "      <td>665</td>\n",
       "    </tr>\n",
       "    <tr>\n",
       "      <th>5</th>\n",
       "      <td>106</td>\n",
       "      <td>2018</td>\n",
       "      <td>898</td>\n",
       "    </tr>\n",
       "    <tr>\n",
       "      <th>6</th>\n",
       "      <td>107</td>\n",
       "      <td>2017</td>\n",
       "      <td>999</td>\n",
       "    </tr>\n",
       "  </tbody>\n",
       "</table>\n",
       "</div>"
      ],
      "text/plain": [
       "   prod_id  year  sales\n",
       "4      105  2017    100\n",
       "7      108  2018    125\n",
       "0      101  2017    192\n",
       "1      102  2018    321\n",
       "9      110  2018    330\n",
       "3      104  2018    383\n",
       "2      103  2017    456\n",
       "8      109  2017    665\n",
       "5      106  2018    898\n",
       "6      107  2017    999"
      ]
     },
     "execution_count": 271,
     "metadata": {},
     "output_type": "execute_result"
    }
   ],
   "source": [
    "#Sorting the value of the table based on columns.\n",
    "sales_data.sort_values('sales')"
   ]
  },
  {
   "cell_type": "code",
   "execution_count": 273,
   "id": "695a6d11",
   "metadata": {},
   "outputs": [
    {
     "data": {
      "text/plain": [
       "2017    5\n",
       "2018    5\n",
       "Name: year, dtype: int64"
      ]
     },
     "execution_count": 273,
     "metadata": {},
     "output_type": "execute_result"
    }
   ],
   "source": [
    "#Value count of the column or frequency table of the categorical data.\n",
    "sales_data.year.value_counts()"
   ]
  },
  {
   "cell_type": "code",
   "execution_count": 274,
   "id": "4172af34",
   "metadata": {
    "scrolled": true
   },
   "outputs": [
    {
     "name": "stdout",
     "output_type": "stream",
     "text": [
      "<class 'pandas.core.frame.DataFrame'>\n",
      "RangeIndex: 10 entries, 0 to 9\n",
      "Data columns (total 3 columns):\n",
      " #   Column   Non-Null Count  Dtype \n",
      "---  ------   --------------  ----- \n",
      " 0   prod_id  10 non-null     object\n",
      " 1   year     10 non-null     int64 \n",
      " 2   sales    10 non-null     int64 \n",
      "dtypes: int64(2), object(1)\n",
      "memory usage: 372.0+ bytes\n"
     ]
    }
   ],
   "source": [
    "#Changing the data type of the column.\n",
    "sales_data.prod_id = sales_data.prod_id.astype('str')\n",
    "sales_data.info()"
   ]
  },
  {
   "cell_type": "markdown",
   "id": "2e405de7",
   "metadata": {},
   "source": [
    "**Object Oriented Programming**"
   ]
  },
  {
   "cell_type": "code",
   "execution_count": 1,
   "id": "a59c64ae",
   "metadata": {},
   "outputs": [],
   "source": [
    "#Class is a template or blueprint of the real world object.\n",
    "#Phone properties:\n",
    "#1. cost\n",
    "#2. colour\n",
    "#Phone behaviour:\n",
    "#1. Make call\n",
    "#2. Play game\n",
    "\n",
    "class Phone:\n",
    "    def make_call(self):\n",
    "        print('Make a phone call')\n",
    "    def play_game(self):\n",
    "        print('Play game')"
   ]
  },
  {
   "cell_type": "code",
   "execution_count": 2,
   "id": "8d2a87fa",
   "metadata": {},
   "outputs": [],
   "source": [
    "p = Phone()"
   ]
  },
  {
   "cell_type": "code",
   "execution_count": 4,
   "id": "86914564",
   "metadata": {},
   "outputs": [
    {
     "name": "stdout",
     "output_type": "stream",
     "text": [
      "Make a phone call\n"
     ]
    }
   ],
   "source": [
    "p.make_call()"
   ]
  },
  {
   "cell_type": "code",
   "execution_count": 6,
   "id": "28efb722",
   "metadata": {},
   "outputs": [
    {
     "name": "stdout",
     "output_type": "stream",
     "text": [
      "Play game\n"
     ]
    }
   ],
   "source": [
    "p.play_game()"
   ]
  },
  {
   "cell_type": "code",
   "execution_count": 9,
   "id": "5683b703",
   "metadata": {},
   "outputs": [],
   "source": [
    "class Phone:\n",
    "    def set_colour(self, colour):\n",
    "        self.colour = colour\n",
    "    def set_cost(self, cost):\n",
    "        self.cost = cost\n",
    "    def show_colour(self):\n",
    "        return self.colour\n",
    "    def show_cost(self):\n",
    "        return self.cost\n",
    "    def make_call(self):\n",
    "        print('Make a phone call')\n",
    "    def play_game(self):\n",
    "        print('Play game')"
   ]
  },
  {
   "cell_type": "code",
   "execution_count": 10,
   "id": "9d615c4f",
   "metadata": {},
   "outputs": [],
   "source": [
    "p = Phone()"
   ]
  },
  {
   "cell_type": "code",
   "execution_count": 11,
   "id": "e02278e5",
   "metadata": {},
   "outputs": [],
   "source": [
    "p.set_colour('Red')\n",
    "p.set_cost('100$')"
   ]
  },
  {
   "cell_type": "code",
   "execution_count": 13,
   "id": "a2df095e",
   "metadata": {},
   "outputs": [
    {
     "data": {
      "text/plain": [
       "'Red'"
      ]
     },
     "execution_count": 13,
     "metadata": {},
     "output_type": "execute_result"
    }
   ],
   "source": [
    "p.show_colour()"
   ]
  },
  {
   "cell_type": "code",
   "execution_count": 14,
   "id": "ae1c0ae2",
   "metadata": {},
   "outputs": [
    {
     "data": {
      "text/plain": [
       "'100$'"
      ]
     },
     "execution_count": 14,
     "metadata": {},
     "output_type": "execute_result"
    }
   ],
   "source": [
    "p.show_cost()"
   ]
  },
  {
   "cell_type": "code",
   "execution_count": 15,
   "id": "24bfb663",
   "metadata": {},
   "outputs": [],
   "source": [
    "#Using a constructor to assign variables.\n",
    "class Employee:\n",
    "    def __init__(self, Name, age, gender, salary):\n",
    "        self.Name = Name\n",
    "        self.age = age\n",
    "        self.gender = gender\n",
    "        self.salary = salary\n",
    "    def show_employee_details(self):\n",
    "        print('Name: {}'.format(self.Name))\n",
    "        print('Age: {}'.format(self.age))\n",
    "        print('Gender: {}'.format(self.gender))\n",
    "        print('Salary: {}'.format(self.salary))"
   ]
  },
  {
   "cell_type": "code",
   "execution_count": 17,
   "id": "4ddddfa6",
   "metadata": {},
   "outputs": [],
   "source": [
    "e = Employee('Mohit',31,'M',1000000)"
   ]
  },
  {
   "cell_type": "code",
   "execution_count": 18,
   "id": "37b1a582",
   "metadata": {},
   "outputs": [
    {
     "name": "stdout",
     "output_type": "stream",
     "text": [
      "Name: Mohit\n",
      "Age: 31\n",
      "Gender: M\n",
      "Salary: 1000000\n"
     ]
    }
   ],
   "source": [
    "e.show_employee_details()"
   ]
  },
  {
   "cell_type": "code",
   "execution_count": 24,
   "id": "0fb13c21",
   "metadata": {},
   "outputs": [],
   "source": [
    "#Inheritence\n",
    "#1.Single Inheritence\n",
    "class Vehicle():\n",
    "    def __init__(self, milage,cost):\n",
    "        self.milage = milage\n",
    "        self.cost = cost\n",
    "\n",
    "    def show_vehicle_properties(self):\n",
    "        print(\"I'm a Vehicle\")\n",
    "        print('Milage: {}'.format(self.milage))\n",
    "        print('Cost: {}'.format(self.cost))\n",
    "        \n",
    "class Car(Vehicle):\n",
    "    def __init__(self, milage, cost, colour, brand):\n",
    "        super().__init__(milage, cost)\n",
    "        self.colour = colour\n",
    "        self.brand = brand\n",
    "    def show_car_properties(self):\n",
    "        print(\"I'm a car\")\n",
    "        print('Colour: {}'.format(self.colour))\n",
    "        print('Brand: {}'.format(self.brand))"
   ]
  },
  {
   "cell_type": "code",
   "execution_count": 33,
   "id": "3023c5d6",
   "metadata": {},
   "outputs": [],
   "source": [
    "v = Vehicle('40 km/hr', '10000$')"
   ]
  },
  {
   "cell_type": "code",
   "execution_count": 34,
   "id": "49eb36fc",
   "metadata": {},
   "outputs": [
    {
     "name": "stdout",
     "output_type": "stream",
     "text": [
      "I'm a Vehicle\n",
      "Milage: 40 km/hr\n",
      "Cost: 10000$\n"
     ]
    }
   ],
   "source": [
    "v.show_vehicle_properties()"
   ]
  },
  {
   "cell_type": "code",
   "execution_count": 35,
   "id": "66f20bbf",
   "metadata": {},
   "outputs": [
    {
     "name": "stdout",
     "output_type": "stream",
     "text": [
      "I'm a car\n",
      "Colour: Blue\n",
      "Brand: Maruti\n",
      "\n",
      "\n",
      "I'm a Vehicle\n",
      "Milage: 40 km/hr\n",
      "Cost: 1000$\n"
     ]
    }
   ],
   "source": [
    "c = Car('40 km/hr','1000$', 'Blue', 'Maruti')\n",
    "c.show_car_properties()\n",
    "print('\\n')\n",
    "c.show_vehicle_properties()"
   ]
  },
  {
   "cell_type": "code",
   "execution_count": 38,
   "id": "d4959e55",
   "metadata": {},
   "outputs": [],
   "source": [
    "#2. Multiple inheritence.\n",
    "class Parent_1():\n",
    "    def Assign_1(self,one):\n",
    "        self.one = one\n",
    "    def show_1(self):\n",
    "        return self.one\n",
    "    \n",
    "class Parent_2():\n",
    "    def Assign_2(self,two):\n",
    "        self.two = two\n",
    "    def show_2(self):\n",
    "        return self.two\n",
    "\n",
    "class Parent_3(Parent_1,Parent_2):\n",
    "    def Assign_3(self,three):\n",
    "        self.three = three\n",
    "    def show_3(self):\n",
    "        return self.three"
   ]
  },
  {
   "cell_type": "code",
   "execution_count": 41,
   "id": "d19db15e",
   "metadata": {},
   "outputs": [
    {
     "name": "stdout",
     "output_type": "stream",
     "text": [
      "1\n",
      "2\n",
      "3\n"
     ]
    }
   ],
   "source": [
    "p = Parent_3()\n",
    "p.Assign_1('1')\n",
    "p.Assign_2('2')\n",
    "p.Assign_3('3')\n",
    "print(p.show_1())\n",
    "print(p.show_2())\n",
    "print(p.show_3())"
   ]
  },
  {
   "cell_type": "code",
   "execution_count": null,
   "id": "3187167a",
   "metadata": {},
   "outputs": [],
   "source": [
    "#Multilevel inheritence."
   ]
  },
  {
   "cell_type": "markdown",
   "id": "42a8cd40",
   "metadata": {},
   "source": [
    "**Matplotlib practice**"
   ]
  },
  {
   "cell_type": "code",
   "execution_count": 2,
   "id": "501a312d",
   "metadata": {},
   "outputs": [],
   "source": [
    "#Import the necessary matplotlib library.\n",
    "import numpy as np\n",
    "import matplotlib.pyplot as plt\n",
    "from matplotlib import style\n",
    "style.use('ggplot')"
   ]
  },
  {
   "cell_type": "code",
   "execution_count": 5,
   "id": "48abcb05",
   "metadata": {},
   "outputs": [
    {
     "data": {
      "image/png": "[encoded data removed]",
      "text/plain": [
       "<Figure size 640x480 with 1 Axes>"
      ]
     },
     "metadata": {},
     "output_type": "display_data"
    }
   ],
   "source": [
    "#Simple line Chart.\n",
    "data = np.random.random(10)\n",
    "plt.plot(range(1,11),data)\n",
    "plt.show()"
   ]
  },
  {
   "cell_type": "code",
   "execution_count": 14,
   "id": "cdd440d8",
   "metadata": {},
   "outputs": [
    {
     "data": {
      "image/png": "[encoded data removed]",
      "text/plain": [
       "<Figure size 640x480 with 1 Axes>"
      ]
     },
     "metadata": {},
     "output_type": "display_data"
    }
   ],
   "source": [
    "#Line Chart Continued:\n",
    "data = np.random.random(10)\n",
    "plt.plot(range(1,11),data, 'g', label = \"Random data\", linewidth = 1.5, linestyle = \"-.\", alpha = 0.6)\n",
    "plt.xlabel(\"X\")\n",
    "plt.ylabel(\"Y\")\n",
    "plt.title(\"Random Data Plot\")\n",
    "plt.legend()\n",
    "plt.show()"
   ]
  },
  {
   "cell_type": "code",
   "execution_count": 24,
   "id": "8b1d7476",
   "metadata": {},
   "outputs": [
    {
     "data": {
      "image/png": "[encoded data removed]",
      "text/plain": [
       "<Figure size 640x480 with 1 Axes>"
      ]
     },
     "metadata": {},
     "output_type": "display_data"
    }
   ],
   "source": [
    "#Two line chart in the single plot.\n",
    "Monday = np.random.random(10)\n",
    "Tuesday = np.random.random(10)\n",
    "plt.plot(range(1,11),Monday, 'g', label = \"Monday Traffic\", linewidth = 1.5, linestyle = \"-.\", alpha = 0.6)\n",
    "plt.plot(range(1,11),Tuesday, 'b', label = \"Tuesday Traffic\", linewidth = 1.5, linestyle = \"-.\", alpha = 0.6)\n",
    "plt.xlabel(\"X\")\n",
    "plt.ylabel(\"Y\")\n",
    "plt.title(\"Random Data Plot\")\n",
    "plt.legend()\n",
    "plt.show()"
   ]
  },
  {
   "cell_type": "code",
   "execution_count": 26,
   "id": "2c9f1f15",
   "metadata": {},
   "outputs": [
    {
     "data": {
      "text/plain": [
       "Text(0.5, 1.0, 'Square root plot')"
      ]
     },
     "execution_count": 26,
     "metadata": {},
     "output_type": "execute_result"
    },
    {
     "data": {
      "image/png": "[encoded data removed]",
      "text/plain": [
       "<Figure size 640x480 with 4 Axes>"
      ]
     },
     "metadata": {},
     "output_type": "display_data"
    }
   ],
   "source": [
    "#Subplot:\n",
    "fig, a = plt.subplots(2,2)\n",
    "x = np.array(range(1,6))\n",
    "a[0][0].plot(x,x*x)\n",
    "a[0][0].set_title(\"Square plot\")\n",
    "a[0][1].plot(x,np.log(x))\n",
    "a[0][1].set_title(\"Log plot\")\n",
    "a[1][0].plot(x,np.exp(x))\n",
    "a[1][0].set_title(\"Exponential plot\")\n",
    "a[1][1].plot(x,np.sqrt(x))\n",
    "a[1][1].set_title(\"Square root plot\")"
   ]
  },
  {
   "cell_type": "code",
   "execution_count": 30,
   "id": "1d79cac1",
   "metadata": {},
   "outputs": [
    {
     "data": {
      "image/png": "[encoded data removed]",
      "text/plain": [
       "<Figure size 640x480 with 1 Axes>"
      ]
     },
     "metadata": {},
     "output_type": "display_data"
    }
   ],
   "source": [
    "#Histogram:\n",
    "data = np.random.random(500)\n",
    "plt.hist(data, bins = 50)\n",
    "plt.xlabel(\"Random Data\")\n",
    "plt.ylabel(\"Frequency\")\n",
    "plt.title(\"Histogram of random Data\")\n",
    "plt.show()"
   ]
  },
  {
   "cell_type": "code",
   "execution_count": 32,
   "id": "8b6b71d3",
   "metadata": {},
   "outputs": [
    {
     "data": {
      "image/png": "[encoded data removed]",
      "text/plain": [
       "<Figure size 640x480 with 1 Axes>"
      ]
     },
     "metadata": {},
     "output_type": "display_data"
    }
   ],
   "source": [
    "#Scatter plot:\n",
    "x = np.random.random(15)\n",
    "y = np.random.random(15)\n",
    "plt.scatter(x,y)\n",
    "plt.xlabel(\"X\")\n",
    "plt.ylabel(\"Y\")\n",
    "plt.title(\"Scatter Plot\")\n",
    "plt.show()"
   ]
  },
  {
   "cell_type": "code",
   "execution_count": 33,
   "id": "76ecc282",
   "metadata": {},
   "outputs": [
    {
     "data": {
      "image/png": "[encoded data removed]",
      "text/plain": [
       "<Figure size 640x480 with 1 Axes>"
      ]
     },
     "metadata": {},
     "output_type": "display_data"
    }
   ],
   "source": [
    "#Boxplot:\n",
    "plt.boxplot(x)\n",
    "plt.title(\"Box Plot\")\n",
    "plt.show()"
   ]
  },
  {
   "cell_type": "code",
   "execution_count": 38,
   "id": "eb2cc1e2",
   "metadata": {},
   "outputs": [
    {
     "data": {
      "image/png": "[encoded data removed]",
      "text/plain": [
       "<Figure size 640x480 with 1 Axes>"
      ]
     },
     "metadata": {},
     "output_type": "display_data"
    }
   ],
   "source": [
    "#Pie Chart:\n",
    "labels = [\"BMW\", \"Audi\", \"Mercedez Benz\", \"Lamborgini\", \"Ferrari\"]\n",
    "cost_data = [45, 30, 40, 100, 150]\n",
    "explode = [0, 0.4, 0.2, 0.05, 0]\n",
    "plt.pie(x = cost_data, labels = labels, explode = explode, autopct = \"%1.0f%%\")\n",
    "plt.show()"
   ]
  },
  {
   "cell_type": "code",
   "execution_count": 43,
   "id": "e73d22f7",
   "metadata": {},
   "outputs": [
    {
     "data": {
      "text/html": [
       "<div>\n",
       "<style scoped>\n",
       "    .dataframe tbody tr th:only-of-type {\n",
       "        vertical-align: middle;\n",
       "    }\n",
       "\n",
       "    .dataframe tbody tr th {\n",
       "        vertical-align: top;\n",
       "    }\n",
       "\n",
       "    .dataframe thead th {\n",
       "        text-align: right;\n",
       "    }\n",
       "</style>\n",
       "<table border=\"1\" class=\"dataframe\">\n",
       "  <thead>\n",
       "    <tr style=\"text-align: right;\">\n",
       "      <th></th>\n",
       "      <th>year</th>\n",
       "      <th>month</th>\n",
       "      <th>passengers</th>\n",
       "    </tr>\n",
       "  </thead>\n",
       "  <tbody>\n",
       "    <tr>\n",
       "      <th>0</th>\n",
       "      <td>1949</td>\n",
       "      <td>Jan</td>\n",
       "      <td>112</td>\n",
       "    </tr>\n",
       "    <tr>\n",
       "      <th>1</th>\n",
       "      <td>1949</td>\n",
       "      <td>Feb</td>\n",
       "      <td>118</td>\n",
       "    </tr>\n",
       "    <tr>\n",
       "      <th>2</th>\n",
       "      <td>1949</td>\n",
       "      <td>Mar</td>\n",
       "      <td>132</td>\n",
       "    </tr>\n",
       "    <tr>\n",
       "      <th>3</th>\n",
       "      <td>1949</td>\n",
       "      <td>Apr</td>\n",
       "      <td>129</td>\n",
       "    </tr>\n",
       "    <tr>\n",
       "      <th>4</th>\n",
       "      <td>1949</td>\n",
       "      <td>May</td>\n",
       "      <td>121</td>\n",
       "    </tr>\n",
       "  </tbody>\n",
       "</table>\n",
       "</div>"
      ],
      "text/plain": [
       "   year month  passengers\n",
       "0  1949   Jan         112\n",
       "1  1949   Feb         118\n",
       "2  1949   Mar         132\n",
       "3  1949   Apr         129\n",
       "4  1949   May         121"
      ]
     },
     "execution_count": 43,
     "metadata": {},
     "output_type": "execute_result"
    }
   ],
   "source": [
    "#Seaborn:\n",
    "import seaborn as sns\n",
    "data = sns.load_dataset('flights')\n",
    "data.head()"
   ]
  },
  {
   "cell_type": "code",
   "execution_count": 46,
   "id": "06374a79",
   "metadata": {},
   "outputs": [
    {
     "name": "stderr",
     "output_type": "stream",
     "text": [
      "/var/folders/2q/kt59brmn2g1db492_9qfxbh00000gn/T/ipykernel_734/2887552203.py:1: FutureWarning: In a future version of pandas all arguments of DataFrame.pivot will be keyword-only.\n",
      "  data_1 = data.pivot('month','year','passengers')\n"
     ]
    },
    {
     "data": {
      "text/html": [
       "<div>\n",
       "<style scoped>\n",
       "    .dataframe tbody tr th:only-of-type {\n",
       "        vertical-align: middle;\n",
       "    }\n",
       "\n",
       "    .dataframe tbody tr th {\n",
       "        vertical-align: top;\n",
       "    }\n",
       "\n",
       "    .dataframe thead th {\n",
       "        text-align: right;\n",
       "    }\n",
       "</style>\n",
       "<table border=\"1\" class=\"dataframe\">\n",
       "  <thead>\n",
       "    <tr style=\"text-align: right;\">\n",
       "      <th>year</th>\n",
       "      <th>1949</th>\n",
       "      <th>1950</th>\n",
       "      <th>1951</th>\n",
       "      <th>1952</th>\n",
       "      <th>1953</th>\n",
       "      <th>1954</th>\n",
       "      <th>1955</th>\n",
       "      <th>1956</th>\n",
       "      <th>1957</th>\n",
       "      <th>1958</th>\n",
       "      <th>1959</th>\n",
       "      <th>1960</th>\n",
       "    </tr>\n",
       "    <tr>\n",
       "      <th>month</th>\n",
       "      <th></th>\n",
       "      <th></th>\n",
       "      <th></th>\n",
       "      <th></th>\n",
       "      <th></th>\n",
       "      <th></th>\n",
       "      <th></th>\n",
       "      <th></th>\n",
       "      <th></th>\n",
       "      <th></th>\n",
       "      <th></th>\n",
       "      <th></th>\n",
       "    </tr>\n",
       "  </thead>\n",
       "  <tbody>\n",
       "    <tr>\n",
       "      <th>Jan</th>\n",
       "      <td>112</td>\n",
       "      <td>115</td>\n",
       "      <td>145</td>\n",
       "      <td>171</td>\n",
       "      <td>196</td>\n",
       "      <td>204</td>\n",
       "      <td>242</td>\n",
       "      <td>284</td>\n",
       "      <td>315</td>\n",
       "      <td>340</td>\n",
       "      <td>360</td>\n",
       "      <td>417</td>\n",
       "    </tr>\n",
       "    <tr>\n",
       "      <th>Feb</th>\n",
       "      <td>118</td>\n",
       "      <td>126</td>\n",
       "      <td>150</td>\n",
       "      <td>180</td>\n",
       "      <td>196</td>\n",
       "      <td>188</td>\n",
       "      <td>233</td>\n",
       "      <td>277</td>\n",
       "      <td>301</td>\n",
       "      <td>318</td>\n",
       "      <td>342</td>\n",
       "      <td>391</td>\n",
       "    </tr>\n",
       "    <tr>\n",
       "      <th>Mar</th>\n",
       "      <td>132</td>\n",
       "      <td>141</td>\n",
       "      <td>178</td>\n",
       "      <td>193</td>\n",
       "      <td>236</td>\n",
       "      <td>235</td>\n",
       "      <td>267</td>\n",
       "      <td>317</td>\n",
       "      <td>356</td>\n",
       "      <td>362</td>\n",
       "      <td>406</td>\n",
       "      <td>419</td>\n",
       "    </tr>\n",
       "    <tr>\n",
       "      <th>Apr</th>\n",
       "      <td>129</td>\n",
       "      <td>135</td>\n",
       "      <td>163</td>\n",
       "      <td>181</td>\n",
       "      <td>235</td>\n",
       "      <td>227</td>\n",
       "      <td>269</td>\n",
       "      <td>313</td>\n",
       "      <td>348</td>\n",
       "      <td>348</td>\n",
       "      <td>396</td>\n",
       "      <td>461</td>\n",
       "    </tr>\n",
       "    <tr>\n",
       "      <th>May</th>\n",
       "      <td>121</td>\n",
       "      <td>125</td>\n",
       "      <td>172</td>\n",
       "      <td>183</td>\n",
       "      <td>229</td>\n",
       "      <td>234</td>\n",
       "      <td>270</td>\n",
       "      <td>318</td>\n",
       "      <td>355</td>\n",
       "      <td>363</td>\n",
       "      <td>420</td>\n",
       "      <td>472</td>\n",
       "    </tr>\n",
       "    <tr>\n",
       "      <th>Jun</th>\n",
       "      <td>135</td>\n",
       "      <td>149</td>\n",
       "      <td>178</td>\n",
       "      <td>218</td>\n",
       "      <td>243</td>\n",
       "      <td>264</td>\n",
       "      <td>315</td>\n",
       "      <td>374</td>\n",
       "      <td>422</td>\n",
       "      <td>435</td>\n",
       "      <td>472</td>\n",
       "      <td>535</td>\n",
       "    </tr>\n",
       "    <tr>\n",
       "      <th>Jul</th>\n",
       "      <td>148</td>\n",
       "      <td>170</td>\n",
       "      <td>199</td>\n",
       "      <td>230</td>\n",
       "      <td>264</td>\n",
       "      <td>302</td>\n",
       "      <td>364</td>\n",
       "      <td>413</td>\n",
       "      <td>465</td>\n",
       "      <td>491</td>\n",
       "      <td>548</td>\n",
       "      <td>622</td>\n",
       "    </tr>\n",
       "    <tr>\n",
       "      <th>Aug</th>\n",
       "      <td>148</td>\n",
       "      <td>170</td>\n",
       "      <td>199</td>\n",
       "      <td>242</td>\n",
       "      <td>272</td>\n",
       "      <td>293</td>\n",
       "      <td>347</td>\n",
       "      <td>405</td>\n",
       "      <td>467</td>\n",
       "      <td>505</td>\n",
       "      <td>559</td>\n",
       "      <td>606</td>\n",
       "    </tr>\n",
       "    <tr>\n",
       "      <th>Sep</th>\n",
       "      <td>136</td>\n",
       "      <td>158</td>\n",
       "      <td>184</td>\n",
       "      <td>209</td>\n",
       "      <td>237</td>\n",
       "      <td>259</td>\n",
       "      <td>312</td>\n",
       "      <td>355</td>\n",
       "      <td>404</td>\n",
       "      <td>404</td>\n",
       "      <td>463</td>\n",
       "      <td>508</td>\n",
       "    </tr>\n",
       "    <tr>\n",
       "      <th>Oct</th>\n",
       "      <td>119</td>\n",
       "      <td>133</td>\n",
       "      <td>162</td>\n",
       "      <td>191</td>\n",
       "      <td>211</td>\n",
       "      <td>229</td>\n",
       "      <td>274</td>\n",
       "      <td>306</td>\n",
       "      <td>347</td>\n",
       "      <td>359</td>\n",
       "      <td>407</td>\n",
       "      <td>461</td>\n",
       "    </tr>\n",
       "    <tr>\n",
       "      <th>Nov</th>\n",
       "      <td>104</td>\n",
       "      <td>114</td>\n",
       "      <td>146</td>\n",
       "      <td>172</td>\n",
       "      <td>180</td>\n",
       "      <td>203</td>\n",
       "      <td>237</td>\n",
       "      <td>271</td>\n",
       "      <td>305</td>\n",
       "      <td>310</td>\n",
       "      <td>362</td>\n",
       "      <td>390</td>\n",
       "    </tr>\n",
       "    <tr>\n",
       "      <th>Dec</th>\n",
       "      <td>118</td>\n",
       "      <td>140</td>\n",
       "      <td>166</td>\n",
       "      <td>194</td>\n",
       "      <td>201</td>\n",
       "      <td>229</td>\n",
       "      <td>278</td>\n",
       "      <td>306</td>\n",
       "      <td>336</td>\n",
       "      <td>337</td>\n",
       "      <td>405</td>\n",
       "      <td>432</td>\n",
       "    </tr>\n",
       "  </tbody>\n",
       "</table>\n",
       "</div>"
      ],
      "text/plain": [
       "year   1949  1950  1951  1952  1953  1954  1955  1956  1957  1958  1959  1960\n",
       "month                                                                        \n",
       "Jan     112   115   145   171   196   204   242   284   315   340   360   417\n",
       "Feb     118   126   150   180   196   188   233   277   301   318   342   391\n",
       "Mar     132   141   178   193   236   235   267   317   356   362   406   419\n",
       "Apr     129   135   163   181   235   227   269   313   348   348   396   461\n",
       "May     121   125   172   183   229   234   270   318   355   363   420   472\n",
       "Jun     135   149   178   218   243   264   315   374   422   435   472   535\n",
       "Jul     148   170   199   230   264   302   364   413   465   491   548   622\n",
       "Aug     148   170   199   242   272   293   347   405   467   505   559   606\n",
       "Sep     136   158   184   209   237   259   312   355   404   404   463   508\n",
       "Oct     119   133   162   191   211   229   274   306   347   359   407   461\n",
       "Nov     104   114   146   172   180   203   237   271   305   310   362   390\n",
       "Dec     118   140   166   194   201   229   278   306   336   337   405   432"
      ]
     },
     "execution_count": 46,
     "metadata": {},
     "output_type": "execute_result"
    }
   ],
   "source": [
    "#Pivot of the data.\n",
    "data_1 = data.pivot('month','year','passengers')\n",
    "data_1"
   ]
  },
  {
   "cell_type": "code",
   "execution_count": 57,
   "id": "181e6bea",
   "metadata": {},
   "outputs": [
    {
     "data": {
      "text/plain": [
       "<Axes: xlabel='year', ylabel='month'>"
      ]
     },
     "execution_count": 57,
     "metadata": {},
     "output_type": "execute_result"
    },
    {
     "data": {
      "image/png": "[encoded data removed]",
      "text/plain": [
       "<Figure size 900x700 with 2 Axes>"
      ]
     },
     "metadata": {},
     "output_type": "display_data"
    }
   ],
   "source": [
    "#Heatmap:\n",
    "plt.figure(figsize = (9,7))\n",
    "sns.heatmap(data_1, annot = True, fmt = \"d\")"
   ]
  },
  {
   "cell_type": "code",
   "execution_count": null,
   "id": "8f75bb66",
   "metadata": {},
   "outputs": [],
   "source": []
  },
  {
   "cell_type": "code",
   "execution_count": null,
   "id": "8c0192cd",
   "metadata": {},
   "outputs": [],
   "source": []
  },
  {
   "cell_type": "code",
   "execution_count": null,
   "id": "3afa4497",
   "metadata": {},
   "outputs": [],
   "source": []
  },
  {
   "cell_type": "code",
   "execution_count": null,
   "id": "f64c0983",
   "metadata": {},
   "outputs": [],
   "source": []
  }
 ],
 "metadata": {
  "kernelspec": {
   "display_name": "Python 3 (ipykernel)",
   "language": "python",
   "name": "python3"
  },
  "language_info": {
   "codemirror_mode": {
    "name": "ipython",
    "version": 3
   },
   "file_extension": ".py",
   "mimetype": "text/x-python",
   "name": "python",
   "nbconvert_exporter": "python",
   "pygments_lexer": "ipython3",
   "version": "3.11.3"
  }
 },
 "nbformat": 4,
 "nbformat_minor": 5
}
